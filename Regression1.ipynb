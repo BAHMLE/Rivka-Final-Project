{
 "cells": [
  {
   "cell_type": "markdown",
   "id": "bdcb7c7d",
   "metadata": {},
   "source": [
    "import statements:"
   ]
  },
  {
   "cell_type": "code",
   "execution_count": 1,
   "id": "e7c3e88b",
   "metadata": {},
   "outputs": [],
   "source": [
    "import Features_Modules as fm"
   ]
  },
  {
   "cell_type": "code",
   "execution_count": 2,
   "id": "f40e85fb",
   "metadata": {},
   "outputs": [],
   "source": [
    "import pandas as pd\n",
    "import boto3\n",
    "import os\n",
    "from scipy.stats import spearmanr\n",
    "from sklearn.feature_extraction.text import CountVectorizer\n",
    "from sklearn.preprocessing import StandardScaler\n",
    "# import seaborn as sns\n",
    "from sklearn.linear_model import LinearRegression\n",
    "from scipy.stats import kendalltau, pearsonr, spearmanr\n",
    "import matplotlib.pyplot as plt\n",
    "import seaborn as sns\n",
    "import tempfile\n",
    "import joblib\n",
    "%matplotlib inline"
   ]
  },
  {
   "cell_type": "markdown",
   "id": "925ee855",
   "metadata": {},
   "source": [
    "Run the regression and get results (on training data)"
   ]
  },
  {
   "cell_type": "code",
   "execution_count": 3,
   "id": "ca196a9a",
   "metadata": {},
   "outputs": [],
   "source": [
    "df = fm.read_clean_data('clean_train.csv')\n",
    "model_data, features, scaler = fm.pre_process_data(df, [(1,1)])"
   ]
  },
  {
   "cell_type": "code",
   "execution_count": 4,
   "id": "dd2c4b48",
   "metadata": {
    "scrolled": true
   },
   "outputs": [
    {
     "name": "stdout",
     "output_type": "stream",
     "text": [
      "correlation with actual rank: 0.3211504517929924 \n",
      "R^2 value for model: 0.1720589076797865\n"
     ]
    }
   ],
   "source": [
    "reg, spear, r2 = fm.fit_regression(model_data, njobs=10)\n",
    "print(\"correlation with actual rank:\", spear,\"\\nR^2 value for model:\", r2)"
   ]
  },
  {
   "cell_type": "markdown",
   "id": "3f40eba1",
   "metadata": {},
   "source": [
    "Read in test data (from test/train split)"
   ]
  },
  {
   "cell_type": "code",
   "execution_count": 5,
   "id": "33e51a5e",
   "metadata": {},
   "outputs": [],
   "source": [
    "df_test = fm.read_clean_data('clean_test.csv')\n",
    "# df_test.head()"
   ]
  },
  {
   "cell_type": "code",
   "execution_count": null,
   "id": "4ece1147",
   "metadata": {},
   "outputs": [],
   "source": []
  },
  {
   "cell_type": "code",
   "execution_count": null,
   "id": "bed07e67",
   "metadata": {},
   "outputs": [],
   "source": []
  },
  {
   "cell_type": "code",
   "execution_count": 6,
   "id": "57b51257",
   "metadata": {},
   "outputs": [],
   "source": [
    "# Get Count Vectors, length vector, and pH vector... then scale\n",
    "test1 = fm.use_features(features, df_test)\n",
    "test2 = fm.vector_seq_len(df_test)\n",
    "test1['length'] = test2.n_aa\n",
    "test1['pH'] = test2.pH\n",
    "test1 = pd.DataFrame(scaler.fit_transform(test1), columns = test1.columns)\n",
    "\n"
   ]
  },
  {
   "cell_type": "code",
   "execution_count": 7,
   "id": "e0f23b07",
   "metadata": {},
   "outputs": [
    {
     "data": {
      "text/html": [
       "<div>\n",
       "<style scoped>\n",
       "    .dataframe tbody tr th:only-of-type {\n",
       "        vertical-align: middle;\n",
       "    }\n",
       "\n",
       "    .dataframe tbody tr th {\n",
       "        vertical-align: top;\n",
       "    }\n",
       "\n",
       "    .dataframe thead th {\n",
       "        text-align: right;\n",
       "    }\n",
       "</style>\n",
       "<table border=\"1\" class=\"dataframe\">\n",
       "  <thead>\n",
       "    <tr style=\"text-align: right;\">\n",
       "      <th></th>\n",
       "      <th>a</th>\n",
       "      <th>c</th>\n",
       "      <th>d</th>\n",
       "      <th>e</th>\n",
       "      <th>f</th>\n",
       "      <th>g</th>\n",
       "      <th>h</th>\n",
       "      <th>i</th>\n",
       "      <th>k</th>\n",
       "      <th>l</th>\n",
       "      <th>...</th>\n",
       "      <th>p</th>\n",
       "      <th>q</th>\n",
       "      <th>r</th>\n",
       "      <th>s</th>\n",
       "      <th>t</th>\n",
       "      <th>v</th>\n",
       "      <th>w</th>\n",
       "      <th>y</th>\n",
       "      <th>length</th>\n",
       "      <th>pH</th>\n",
       "    </tr>\n",
       "  </thead>\n",
       "  <tbody>\n",
       "    <tr>\n",
       "      <th>0</th>\n",
       "      <td>-0.541589</td>\n",
       "      <td>-0.477819</td>\n",
       "      <td>-0.332804</td>\n",
       "      <td>-0.282142</td>\n",
       "      <td>-0.574289</td>\n",
       "      <td>-0.628824</td>\n",
       "      <td>-0.009128</td>\n",
       "      <td>-0.233484</td>\n",
       "      <td>-0.180653</td>\n",
       "      <td>-0.714718</td>\n",
       "      <td>...</td>\n",
       "      <td>-0.445490</td>\n",
       "      <td>-0.338693</td>\n",
       "      <td>0.116298</td>\n",
       "      <td>0.755538</td>\n",
       "      <td>0.001252</td>\n",
       "      <td>-0.524450</td>\n",
       "      <td>-0.531144</td>\n",
       "      <td>-0.551847</td>\n",
       "      <td>-0.292645</td>\n",
       "      <td>-0.139748</td>\n",
       "    </tr>\n",
       "    <tr>\n",
       "      <th>1</th>\n",
       "      <td>-0.204847</td>\n",
       "      <td>0.211568</td>\n",
       "      <td>-0.263952</td>\n",
       "      <td>-0.660230</td>\n",
       "      <td>-0.261000</td>\n",
       "      <td>2.115797</td>\n",
       "      <td>-0.330355</td>\n",
       "      <td>-0.488549</td>\n",
       "      <td>-0.439416</td>\n",
       "      <td>-0.671358</td>\n",
       "      <td>...</td>\n",
       "      <td>0.717687</td>\n",
       "      <td>1.414681</td>\n",
       "      <td>-0.770973</td>\n",
       "      <td>0.157001</td>\n",
       "      <td>-0.224684</td>\n",
       "      <td>-0.559135</td>\n",
       "      <td>1.772517</td>\n",
       "      <td>0.080897</td>\n",
       "      <td>0.009899</td>\n",
       "      <td>3.170314</td>\n",
       "    </tr>\n",
       "    <tr>\n",
       "      <th>2</th>\n",
       "      <td>-0.064537</td>\n",
       "      <td>-0.324622</td>\n",
       "      <td>-0.298378</td>\n",
       "      <td>-0.584613</td>\n",
       "      <td>0.052290</td>\n",
       "      <td>-0.099740</td>\n",
       "      <td>-0.571275</td>\n",
       "      <td>-0.275995</td>\n",
       "      <td>-0.504106</td>\n",
       "      <td>-0.064315</td>\n",
       "      <td>...</td>\n",
       "      <td>-0.412256</td>\n",
       "      <td>-0.229107</td>\n",
       "      <td>-0.153741</td>\n",
       "      <td>-0.291902</td>\n",
       "      <td>-0.375309</td>\n",
       "      <td>0.065208</td>\n",
       "      <td>-0.202050</td>\n",
       "      <td>-0.472754</td>\n",
       "      <td>-0.286020</td>\n",
       "      <td>-0.139748</td>\n",
       "    </tr>\n",
       "    <tr>\n",
       "      <th>3</th>\n",
       "      <td>-0.317094</td>\n",
       "      <td>-0.401220</td>\n",
       "      <td>0.045879</td>\n",
       "      <td>0.448828</td>\n",
       "      <td>-0.574289</td>\n",
       "      <td>-0.364282</td>\n",
       "      <td>-0.089435</td>\n",
       "      <td>-0.616081</td>\n",
       "      <td>1.210194</td>\n",
       "      <td>-0.649678</td>\n",
       "      <td>...</td>\n",
       "      <td>0.086248</td>\n",
       "      <td>-0.302164</td>\n",
       "      <td>1.736531</td>\n",
       "      <td>0.830355</td>\n",
       "      <td>0.001252</td>\n",
       "      <td>-0.316335</td>\n",
       "      <td>-0.860239</td>\n",
       "      <td>-0.947312</td>\n",
       "      <td>0.027565</td>\n",
       "      <td>-0.139748</td>\n",
       "    </tr>\n",
       "    <tr>\n",
       "      <th>4</th>\n",
       "      <td>-0.092599</td>\n",
       "      <td>-0.554417</td>\n",
       "      <td>-0.608209</td>\n",
       "      <td>-0.534201</td>\n",
       "      <td>-0.574289</td>\n",
       "      <td>-0.595756</td>\n",
       "      <td>-0.250048</td>\n",
       "      <td>-0.658592</td>\n",
       "      <td>-0.439416</td>\n",
       "      <td>-0.541277</td>\n",
       "      <td>...</td>\n",
       "      <td>-0.611658</td>\n",
       "      <td>-0.521336</td>\n",
       "      <td>-0.732396</td>\n",
       "      <td>-0.466475</td>\n",
       "      <td>-0.412965</td>\n",
       "      <td>-0.663192</td>\n",
       "      <td>-0.695692</td>\n",
       "      <td>-0.710033</td>\n",
       "      <td>-0.581939</td>\n",
       "      <td>-0.139748</td>\n",
       "    </tr>\n",
       "  </tbody>\n",
       "</table>\n",
       "<p>5 rows × 22 columns</p>\n",
       "</div>"
      ],
      "text/plain": [
       "          a         c         d         e         f         g         h  \\\n",
       "0 -0.541589 -0.477819 -0.332804 -0.282142 -0.574289 -0.628824 -0.009128   \n",
       "1 -0.204847  0.211568 -0.263952 -0.660230 -0.261000  2.115797 -0.330355   \n",
       "2 -0.064537 -0.324622 -0.298378 -0.584613  0.052290 -0.099740 -0.571275   \n",
       "3 -0.317094 -0.401220  0.045879  0.448828 -0.574289 -0.364282 -0.089435   \n",
       "4 -0.092599 -0.554417 -0.608209 -0.534201 -0.574289 -0.595756 -0.250048   \n",
       "\n",
       "          i         k         l  ...         p         q         r         s  \\\n",
       "0 -0.233484 -0.180653 -0.714718  ... -0.445490 -0.338693  0.116298  0.755538   \n",
       "1 -0.488549 -0.439416 -0.671358  ...  0.717687  1.414681 -0.770973  0.157001   \n",
       "2 -0.275995 -0.504106 -0.064315  ... -0.412256 -0.229107 -0.153741 -0.291902   \n",
       "3 -0.616081  1.210194 -0.649678  ...  0.086248 -0.302164  1.736531  0.830355   \n",
       "4 -0.658592 -0.439416 -0.541277  ... -0.611658 -0.521336 -0.732396 -0.466475   \n",
       "\n",
       "          t         v         w         y    length        pH  \n",
       "0  0.001252 -0.524450 -0.531144 -0.551847 -0.292645 -0.139748  \n",
       "1 -0.224684 -0.559135  1.772517  0.080897  0.009899  3.170314  \n",
       "2 -0.375309  0.065208 -0.202050 -0.472754 -0.286020 -0.139748  \n",
       "3  0.001252 -0.316335 -0.860239 -0.947312  0.027565 -0.139748  \n",
       "4 -0.412965 -0.663192 -0.695692 -0.710033 -0.581939 -0.139748  \n",
       "\n",
       "[5 rows x 22 columns]"
      ]
     },
     "execution_count": 7,
     "metadata": {},
     "output_type": "execute_result"
    }
   ],
   "source": [
    "test1.head()"
   ]
  },
  {
   "cell_type": "code",
   "execution_count": 8,
   "id": "00415526",
   "metadata": {},
   "outputs": [
    {
     "name": "stdout",
     "output_type": "stream",
     "text": [
      "correlation with actual rank: 0.30596270588385877 \n",
      "R^2 value for model: 0.15553483086371\n"
     ]
    }
   ],
   "source": [
    "prediction = reg.predict(test1)\n",
    "print(\"correlation with actual rank:\", fm.get_spearman(prediction, df_test.label)[0],\n",
    "      \"\\nR^2 value for model:\", reg.score(test1,df_test.label))"
   ]
  },
  {
   "cell_type": "markdown",
   "id": "3fbcb90e",
   "metadata": {},
   "source": [
    "Persist the model"
   ]
  },
  {
   "cell_type": "code",
   "execution_count": 9,
   "id": "022acc2a",
   "metadata": {},
   "outputs": [],
   "source": [
    "bucket = 'tech-x-final-project'\n",
    "MODEL_FOLDER = 'models'"
   ]
  },
  {
   "cell_type": "code",
   "execution_count": 10,
   "id": "86d20031",
   "metadata": {},
   "outputs": [
    {
     "name": "stdout",
     "output_type": "stream",
     "text": [
      "us-east-1\n"
     ]
    }
   ],
   "source": [
    "my_region = boto3.session.Session().region_name\n",
    "print(my_region)\n",
    "s3 = boto3.client('s3')"
   ]
  },
  {
   "cell_type": "code",
   "execution_count": 11,
   "id": "292a21e7",
   "metadata": {},
   "outputs": [],
   "source": [
    "key1 = \"models/benchmark_model.pkl\"\n",
    "key2 = \"models/benchmark_scaler.pkl\"\n",
    "key3 = \"models/benchmark_features.pkl\"\n",
    "with tempfile.TemporaryFile() as fp:\n",
    "    joblib.dump(reg, fp)\n",
    "    fp.seek(0)\n",
    "    s3.put_object(Key=key1, Body=fp.read(), Bucket=bucket)\n",
    "    \n",
    "with tempfile.TemporaryFile() as fp:\n",
    "    joblib.dump(scaler, fp)\n",
    "    fp.seek(0)\n",
    "    s3.put_object(Key=key2, Body=fp.read(), Bucket=bucket)\n",
    "    \n",
    "with tempfile.TemporaryFile() as fp:\n",
    "    joblib.dump(features, fp)\n",
    "    fp.seek(0)\n",
    "    s3.put_object(Key=key3, Body=fp.read(), Bucket=bucket)"
   ]
  },
  {
   "cell_type": "code",
   "execution_count": null,
   "id": "b11a18b5",
   "metadata": {},
   "outputs": [],
   "source": []
  },
  {
   "cell_type": "code",
   "execution_count": null,
   "id": "a9fe8356",
   "metadata": {},
   "outputs": [],
   "source": []
  },
  {
   "cell_type": "code",
   "execution_count": null,
   "id": "7bd2c058",
   "metadata": {},
   "outputs": [],
   "source": []
  },
  {
   "cell_type": "code",
   "execution_count": null,
   "id": "a0853a9a",
   "metadata": {},
   "outputs": [],
   "source": []
  },
  {
   "cell_type": "code",
   "execution_count": null,
   "id": "0a5b7da0",
   "metadata": {},
   "outputs": [],
   "source": []
  },
  {
   "cell_type": "markdown",
   "id": "fcaee868",
   "metadata": {},
   "source": [
    "Read in KAGGLE test set"
   ]
  },
  {
   "cell_type": "code",
   "execution_count": 12,
   "id": "a0fe0041",
   "metadata": {},
   "outputs": [
    {
     "name": "stdout",
     "output_type": "stream",
     "text": [
      "2413\n"
     ]
    }
   ],
   "source": [
    "DATASET = 'test.csv'\n",
    "LABELS = 'test_labels.csv'\n",
    "MAIN_FOLDER = 's3://tech-x-final-project'\n",
    "DATA_FOLDER = 'raw-data'\n",
    "\n",
    "\n",
    "test_data = pd.read_csv(os.path.join(MAIN_FOLDER,DATA_FOLDER,DATASET))\n",
    "test_data = test_data.drop(['data_source'], axis=1)\n",
    "print(len(test_data))\n",
    "test_labels = pd.read_csv(os.path.join(MAIN_FOLDER,DATA_FOLDER,LABELS))\n",
    "\n",
    "# Do this next step in case they aren't in the same order\n",
    "test = pd.merge(test_data, test_labels, on='seq_id').drop('seq_id',axis=1)\n",
    "\n",
    "labels = test.tm\n",
    "test = test.drop('tm',axis=1)"
   ]
  },
  {
   "cell_type": "code",
   "execution_count": 13,
   "id": "b4c490eb",
   "metadata": {},
   "outputs": [
    {
     "data": {
      "text/plain": [
       "protein_sequence    2413\n",
       "pH                     1\n",
       "dtype: int64"
      ]
     },
     "execution_count": 13,
     "metadata": {},
     "output_type": "execute_result"
    }
   ],
   "source": [
    "test.nunique()"
   ]
  },
  {
   "cell_type": "code",
   "execution_count": 14,
   "id": "df95769e",
   "metadata": {},
   "outputs": [
    {
     "name": "stdout",
     "output_type": "stream",
     "text": [
      "307\n",
      "(2413,)\n"
     ]
    }
   ],
   "source": [
    "print(labels.nunique())\n",
    "print(labels.shape)"
   ]
  },
  {
   "cell_type": "markdown",
   "id": "efb55b08",
   "metadata": {},
   "source": [
    "Vectorize Test Data"
   ]
  },
  {
   "cell_type": "code",
   "execution_count": 15,
   "id": "178763bd",
   "metadata": {},
   "outputs": [],
   "source": [
    "# Get Count Vectors\n",
    "test1 = fm.use_features(features, test)\n",
    "test2 = fm.vector_seq_len(test)\n",
    "test1['length'] = test2.n_aa\n",
    "test1['pH'] = test2.pH"
   ]
  },
  {
   "cell_type": "code",
   "execution_count": 16,
   "id": "4bf9b741",
   "metadata": {},
   "outputs": [],
   "source": [
    "# scaler = StandardScaler()\n",
    "test1 = pd.DataFrame(scaler.fit_transform(test1), columns = test1.columns)"
   ]
  },
  {
   "cell_type": "code",
   "execution_count": 22,
   "id": "b671ebff",
   "metadata": {
    "scrolled": true
   },
   "outputs": [],
   "source": [
    "# test1.head()"
   ]
  },
  {
   "cell_type": "code",
   "execution_count": 19,
   "id": "f8ed19f3",
   "metadata": {},
   "outputs": [
    {
     "name": "stdout",
     "output_type": "stream",
     "text": [
      "correlation with actual rank: 0.06612291425496875 \n",
      "R^2 value for model: -10.04231251412316\n"
     ]
    }
   ],
   "source": [
    "prediction = reg.predict(test1)\n",
    "print(\"correlation with actual rank:\", fm.get_spearman(prediction, labels)[0],\n",
    "      \"\\nR^2 value for model:\", reg.score(test1,labels))"
   ]
  }
 ],
 "metadata": {
  "kernelspec": {
   "display_name": "conda_python3",
   "language": "python",
   "name": "conda_python3"
  },
  "language_info": {
   "codemirror_mode": {
    "name": "ipython",
    "version": 3
   },
   "file_extension": ".py",
   "mimetype": "text/x-python",
   "name": "python",
   "nbconvert_exporter": "python",
   "pygments_lexer": "ipython3",
   "version": "3.10.8"
  }
 },
 "nbformat": 4,
 "nbformat_minor": 5
}
