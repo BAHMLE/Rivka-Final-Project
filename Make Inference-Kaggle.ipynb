{
 "cells": [
  {
   "cell_type": "code",
   "execution_count": 1,
   "id": "1576dffd",
   "metadata": {},
   "outputs": [],
   "source": [
    "import boto3\n",
    "import os\n",
    "import pandas as pd\n",
    "import Features_Modules2 as fm"
   ]
  },
  {
   "cell_type": "markdown",
   "id": "436e4153",
   "metadata": {},
   "source": [
    "Enter the new amino acid string and pH value(s)"
   ]
  },
  {
   "cell_type": "code",
   "execution_count": 13,
   "id": "40eef7bf",
   "metadata": {},
   "outputs": [
    {
     "name": "stdout",
     "output_type": "stream",
     "text": [
      "2413\n"
     ]
    }
   ],
   "source": [
    "DATASET = 'test.csv'\n",
    "LABELS = 'test_labels.csv'\n",
    "MAIN_FOLDER = 's3://tech-x-final-project'\n",
    "DATA_FOLDER = 'raw-data'\n",
    "\n",
    "\n",
    "test_data = pd.read_csv(os.path.join(MAIN_FOLDER,DATA_FOLDER,DATASET))\n",
    "test_data = test_data.drop(['data_source'], axis=1)\n",
    "print(len(test_data))\n",
    "test_labels = pd.read_csv(os.path.join(MAIN_FOLDER,DATA_FOLDER,LABELS))\n",
    "\n",
    "# Do this next step in case they aren't in the same order\n",
    "test = pd.merge(test_data, test_labels, on='seq_id').drop('seq_id',axis=1)\n",
    "\n",
    "labels = test.tm\n",
    "\n",
    "test = test.drop('tm',axis=1)"
   ]
  },
  {
   "cell_type": "markdown",
   "id": "f98299cb",
   "metadata": {},
   "source": [
    "Assign model/bucket/etc"
   ]
  },
  {
   "cell_type": "code",
   "execution_count": 14,
   "id": "2daf2e94",
   "metadata": {},
   "outputs": [],
   "source": [
    "model_name = \"models/model.pkl\"\n",
    "scaler_name = \"models/scaler.pkl\"\n",
    "feature_name = \"models/features.pkl\"\n",
    "\n",
    "bucket = 'tech-x-final-project'\n",
    "s3 = boto3.client('s3')"
   ]
  },
  {
   "cell_type": "markdown",
   "id": "72beb036",
   "metadata": {},
   "source": [
    "Read model, and other artifacts"
   ]
  },
  {
   "cell_type": "code",
   "execution_count": 15,
   "id": "8edc38b6",
   "metadata": {},
   "outputs": [],
   "source": [
    "model = fm.load_itm(model_name, s3, bucket)\n",
    "scaler = fm.load_itm(scaler_name, s3, bucket)\n",
    "features = fm.load_itm(feature_name, s3, bucket)\n",
    "# print(features)"
   ]
  },
  {
   "cell_type": "markdown",
   "id": "ad165a32",
   "metadata": {},
   "source": [
    "Convert the data to a dataframe, vectorize (use helper functions)"
   ]
  },
  {
   "cell_type": "code",
   "execution_count": 16,
   "id": "bb211029",
   "metadata": {},
   "outputs": [],
   "source": [
    "# vectorized_test_values = pd.DataFrame.from_dict({'protein_sequence':sequence,  'pH': pH})\n",
    "new_data = fm.prediction_prep(test, features, scaler)"
   ]
  },
  {
   "cell_type": "markdown",
   "id": "75681a0a",
   "metadata": {},
   "source": [
    "Get predictions"
   ]
  },
  {
   "cell_type": "code",
   "execution_count": 20,
   "id": "00897dd0",
   "metadata": {},
   "outputs": [
    {
     "name": "stdout",
     "output_type": "stream",
     "text": [
      "correlation with actual rank: 0.12260337994601139 \n",
      "R^2 value for model: -8.503597853950577\n"
     ]
    }
   ],
   "source": [
    "prediction = model.predict(new_data)\n",
    "print(\"correlation with actual rank:\", fm.get_spearman(prediction, labels)[0],\n",
    "      \"\\nR^2 value for model:\", model.score(new_data,labels))"
   ]
  },
  {
   "cell_type": "code",
   "execution_count": null,
   "id": "267f3f43",
   "metadata": {},
   "outputs": [],
   "source": []
  },
  {
   "cell_type": "code",
   "execution_count": null,
   "id": "eebf46e5",
   "metadata": {},
   "outputs": [],
   "source": []
  }
 ],
 "metadata": {
  "kernelspec": {
   "display_name": "conda_python3",
   "language": "python",
   "name": "conda_python3"
  },
  "language_info": {
   "codemirror_mode": {
    "name": "ipython",
    "version": 3
   },
   "file_extension": ".py",
   "mimetype": "text/x-python",
   "name": "python",
   "nbconvert_exporter": "python",
   "pygments_lexer": "ipython3",
   "version": "3.10.8"
  }
 },
 "nbformat": 4,
 "nbformat_minor": 5
}
