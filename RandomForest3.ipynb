{
 "cells": [
  {
   "cell_type": "code",
   "execution_count": 13,
   "id": "48b7f646",
   "metadata": {},
   "outputs": [],
   "source": [
    "# pip install Bio"
   ]
  },
  {
   "cell_type": "markdown",
   "id": "bdcb7c7d",
   "metadata": {},
   "source": [
    "import statements:"
   ]
  },
  {
   "cell_type": "code",
   "execution_count": 14,
   "id": "80f2afe5",
   "metadata": {},
   "outputs": [],
   "source": [
    "import Features_Modules2 as fm"
   ]
  },
  {
   "cell_type": "code",
   "execution_count": 15,
   "id": "f40e85fb",
   "metadata": {},
   "outputs": [],
   "source": [
    "import pandas as pd\n",
    "import boto3\n",
    "import os\n",
    "from scipy.stats import spearmanr\n",
    "from sklearn.feature_extraction.text import CountVectorizer\n",
    "from sklearn.preprocessing import StandardScaler\n",
    "# import seaborn as sns\n",
    "from sklearn.ensemble import RandomForestRegressor\n",
    "from scipy.stats import kendalltau, pearsonr, spearmanr\n",
    "import matplotlib.pyplot as plt\n",
    "import seaborn as sns\n",
    "from sklearn.metrics import mean_squared_error\n",
    "import joblib\n",
    "import tempfile\n",
    "\n",
    "%matplotlib inline"
   ]
  },
  {
   "cell_type": "markdown",
   "id": "5b8d2417",
   "metadata": {},
   "source": [
    "Models"
   ]
  },
  {
   "cell_type": "code",
   "execution_count": 16,
   "id": "bf0b4b1f",
   "metadata": {},
   "outputs": [
    {
     "name": "stdout",
     "output_type": "stream",
     "text": [
      "columns:\n",
      "                     0         1         2         3         4\n",
      "a            0.615201 -0.377777 -0.098502 -0.470868 -0.222624\n",
      "aa           0.000000  0.000000  0.000000  0.000000  0.000000\n",
      "aaa          0.000000  0.000000  0.000000  0.000000  0.000000\n",
      "aac          0.000000  0.000000  0.000000  0.000000  0.000000\n",
      "aad          0.000000  0.000000  0.000000  0.000000  0.000000\n",
      "...               ...       ...       ...       ...       ...\n",
      "sheet_pct    0.888101 -0.572175 -0.572076  0.282371 -1.566996\n",
      "aromaticity -0.401409  1.243221 -1.404423 -0.853947  0.016042\n",
      "instability  0.733810 -1.030558  1.298767 -0.434823 -0.663036\n",
      "charge      -2.643637 -1.245348 -0.125341  0.127627  0.019773\n",
      "gravy       -0.252528  0.145358 -1.041713  0.636547  1.105112\n",
      "\n",
      "[8432 rows x 5 columns]\n"
     ]
    }
   ],
   "source": [
    "df = fm.read_clean_data('clean_train.csv')\n",
    "model_data, features, scaler = fm.pre_process_data(df, [(1,3)])\n",
    "# model_data.columns"
   ]
  },
  {
   "cell_type": "code",
   "execution_count": 17,
   "id": "44010c53",
   "metadata": {},
   "outputs": [],
   "source": [
    "# Base model for random tree\n",
    "regr = RandomForestRegressor(n_estimators=50, n_jobs=5, random_state=42)\n",
    "\n",
    "Y = model_data.label\n",
    "X = model_data.drop('label',axis=1)"
   ]
  },
  {
   "cell_type": "code",
   "execution_count": 18,
   "id": "380ba61d",
   "metadata": {},
   "outputs": [
    {
     "name": "stdout",
     "output_type": "stream",
     "text": [
      "correlation with actual rank: 0.9627005287576968 \n",
      "R^2 value for model: 0.936156281163213\n"
     ]
    }
   ],
   "source": [
    "regr.fit(X,Y)\n",
    "r2 = regr.score(X,Y)\n",
    "\n",
    "yhat = regr.predict(X)\n",
    "spear = fm.get_spearman(Y, yhat)\n",
    "print(\"correlation with actual rank:\", spear[0],\"\\nR^2 value for model:\", r2)"
   ]
  },
  {
   "cell_type": "markdown",
   "id": "c1ed9bc2",
   "metadata": {},
   "source": [
    "Read in test data (from test/train split)"
   ]
  },
  {
   "cell_type": "code",
   "execution_count": 19,
   "id": "71fc6a4e",
   "metadata": {},
   "outputs": [
    {
     "data": {
      "text/html": [
       "<div>\n",
       "<style scoped>\n",
       "    .dataframe tbody tr th:only-of-type {\n",
       "        vertical-align: middle;\n",
       "    }\n",
       "\n",
       "    .dataframe tbody tr th {\n",
       "        vertical-align: top;\n",
       "    }\n",
       "\n",
       "    .dataframe thead th {\n",
       "        text-align: right;\n",
       "    }\n",
       "</style>\n",
       "<table border=\"1\" class=\"dataframe\">\n",
       "  <thead>\n",
       "    <tr style=\"text-align: right;\">\n",
       "      <th></th>\n",
       "      <th>protein_sequence</th>\n",
       "      <th>pH</th>\n",
       "      <th>label</th>\n",
       "    </tr>\n",
       "  </thead>\n",
       "  <tbody>\n",
       "    <tr>\n",
       "      <th>0</th>\n",
       "      <td>MGNSSSSSSRINKKSESMEIRSKPNRSSVSGEFNKSKSMMDMSSKS...</td>\n",
       "      <td>7.0</td>\n",
       "      <td>45.6</td>\n",
       "    </tr>\n",
       "    <tr>\n",
       "      <th>1</th>\n",
       "      <td>MKFLQIIPVLLSLTSTTLAQSFCSSASHSGQSVKETGNKVGTIGGV...</td>\n",
       "      <td>7.5</td>\n",
       "      <td>55.0</td>\n",
       "    </tr>\n",
       "    <tr>\n",
       "      <th>2</th>\n",
       "      <td>MNKRDAINHIRQFGGRLDRFRKSVGGSGDGGRNAPKRAKSSPKPVN...</td>\n",
       "      <td>7.0</td>\n",
       "      <td>56.1</td>\n",
       "    </tr>\n",
       "    <tr>\n",
       "      <th>3</th>\n",
       "      <td>MTSLVPGAGLLPIPTSSPLTAVSSLGVSLSSLGAIPAAALDPNITT...</td>\n",
       "      <td>7.0</td>\n",
       "      <td>50.3</td>\n",
       "    </tr>\n",
       "    <tr>\n",
       "      <th>4</th>\n",
       "      <td>MSSNKYHHGDLKASLIEAANTILLRDGADALSLRAIAAEVGVSHMA...</td>\n",
       "      <td>7.0</td>\n",
       "      <td>45.1</td>\n",
       "    </tr>\n",
       "  </tbody>\n",
       "</table>\n",
       "</div>"
      ],
      "text/plain": [
       "                                    protein_sequence   pH  label\n",
       "0  MGNSSSSSSRINKKSESMEIRSKPNRSSVSGEFNKSKSMMDMSSKS...  7.0   45.6\n",
       "1  MKFLQIIPVLLSLTSTTLAQSFCSSASHSGQSVKETGNKVGTIGGV...  7.5   55.0\n",
       "2  MNKRDAINHIRQFGGRLDRFRKSVGGSGDGGRNAPKRAKSSPKPVN...  7.0   56.1\n",
       "3  MTSLVPGAGLLPIPTSSPLTAVSSLGVSLSSLGAIPAAALDPNITT...  7.0   50.3\n",
       "4  MSSNKYHHGDLKASLIEAANTILLRDGADALSLRAIAAEVGVSHMA...  7.0   45.1"
      ]
     },
     "execution_count": 19,
     "metadata": {},
     "output_type": "execute_result"
    }
   ],
   "source": [
    "df_test = fm.read_clean_data('clean_test.csv')\n",
    "df_test.head()"
   ]
  },
  {
   "cell_type": "code",
   "execution_count": 20,
   "id": "0fe639e6",
   "metadata": {},
   "outputs": [],
   "source": [
    "test1 = fm.prediction_prep(df_test, features, scaler)"
   ]
  },
  {
   "cell_type": "code",
   "execution_count": 21,
   "id": "89288475",
   "metadata": {},
   "outputs": [
    {
     "name": "stdout",
     "output_type": "stream",
     "text": [
      "correlation with actual rank: 0.5104645293688199 \n",
      "R^2 value for model: 0.5242660483404402 \n",
      "MSE for model: 68.64561164257137\n"
     ]
    }
   ],
   "source": [
    "prediction = regr.predict(test1)\n",
    "print(\"correlation with actual rank:\", fm.get_spearman(prediction, df_test.label)[0],\n",
    "      \"\\nR^2 value for model:\", regr.score(test1,df_test.label),\n",
    "     \"\\nMSE for model:\", mean_squared_error(prediction,df_test.label))"
   ]
  },
  {
   "cell_type": "markdown",
   "id": "12cee22a",
   "metadata": {},
   "source": [
    "PERSIST THE MODEL"
   ]
  },
  {
   "cell_type": "code",
   "execution_count": 22,
   "id": "f412954c",
   "metadata": {},
   "outputs": [],
   "source": [
    "bucket = 'tech-x-final-project'\n",
    "MODEL_FOLDER = 'models'"
   ]
  },
  {
   "cell_type": "code",
   "execution_count": 23,
   "id": "2fa469d7",
   "metadata": {},
   "outputs": [
    {
     "name": "stdout",
     "output_type": "stream",
     "text": [
      "us-east-1\n"
     ]
    }
   ],
   "source": [
    "my_region = boto3.session.Session().region_name\n",
    "print(my_region)\n",
    "s3 = boto3.client('s3')"
   ]
  },
  {
   "cell_type": "code",
   "execution_count": 24,
   "id": "c578206d",
   "metadata": {},
   "outputs": [],
   "source": [
    "key1 = \"models/model.pkl\"\n",
    "key2 = \"models/scaler.pkl\"\n",
    "key3 = \"models/features.pkl\"\n",
    "with tempfile.TemporaryFile() as fp:\n",
    "    joblib.dump(regr, fp)\n",
    "    fp.seek(0)\n",
    "    s3.put_object(Key=key1, Body=fp.read(), Bucket=bucket)\n",
    "    \n",
    "with tempfile.TemporaryFile() as fp:\n",
    "    joblib.dump(scaler, fp)\n",
    "    fp.seek(0)\n",
    "    s3.put_object(Key=key2, Body=fp.read(), Bucket=bucket)\n",
    "    \n",
    "with tempfile.TemporaryFile() as fp:\n",
    "    joblib.dump(features, fp)\n",
    "    fp.seek(0)\n",
    "    s3.put_object(Key=key3, Body=fp.read(), Bucket=bucket)"
   ]
  },
  {
   "cell_type": "code",
   "execution_count": null,
   "id": "8cce7077",
   "metadata": {},
   "outputs": [],
   "source": []
  }
 ],
 "metadata": {
  "kernelspec": {
   "display_name": "conda_python3",
   "language": "python",
   "name": "conda_python3"
  },
  "language_info": {
   "codemirror_mode": {
    "name": "ipython",
    "version": 3
   },
   "file_extension": ".py",
   "mimetype": "text/x-python",
   "name": "python",
   "nbconvert_exporter": "python",
   "pygments_lexer": "ipython3",
   "version": "3.10.8"
  }
 },
 "nbformat": 4,
 "nbformat_minor": 5
}
