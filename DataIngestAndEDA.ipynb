{
 "cells": [
  {
   "cell_type": "code",
   "execution_count": 1,
   "id": "9a5e5365",
   "metadata": {},
   "outputs": [],
   "source": [
    "import pandas as pd\n",
    "import numpy as np\n",
    "import os\n",
    "import boto3\n",
    "import seaborn as sns\n",
    "import matplotlib.pyplot as plt\n",
    "from sagemaker import get_execution_role"
   ]
  },
  {
   "cell_type": "markdown",
   "id": "12c40aa2",
   "metadata": {},
   "source": [
    "Set up region/bucket"
   ]
  },
  {
   "cell_type": "code",
   "execution_count": 2,
   "id": "30d3a717",
   "metadata": {},
   "outputs": [
    {
     "name": "stdout",
     "output_type": "stream",
     "text": [
      "region: us-east-1\n"
     ]
    }
   ],
   "source": [
    "my_region = boto3.session.Session().region_name\n",
    "\n",
    "print(\"region: {}\".format(my_region))"
   ]
  },
  {
   "cell_type": "code",
   "execution_count": 3,
   "id": "ceac6ac9",
   "metadata": {},
   "outputs": [],
   "source": [
    "s3 = boto3.resource('s3')\n",
    "bucket_name = 'tech-x-final-project'"
   ]
  },
  {
   "cell_type": "code",
   "execution_count": 4,
   "id": "d8c26b9b",
   "metadata": {},
   "outputs": [
    {
     "name": "stdout",
     "output_type": "stream",
     "text": [
      "Bucket already exists!\n"
     ]
    }
   ],
   "source": [
    "try:\n",
    "    if  my_region == 'us-east-1':\n",
    "        if not s3.Bucket(bucket_name).creation_date:\n",
    "            s3.create_bucket(Bucket=bucket_name)\n",
    "            print('S3 bucket created successfully')\n",
    "        else:\n",
    "            print('Bucket already exists!')\n",
    "    else: \n",
    "        if not s3.Bucket(bucket_name).creation_date:\n",
    "            s3.create_bucket(Bucket=bucket_name, CreateBucketConfiguration={'LocationConstraint': my_region})\n",
    "            print('S3 bucket created successfully')\n",
    "        else:\n",
    "            print('Bucket already exists!')\n",
    "except Exception as e:\n",
    "    print('S3 error: ', e)"
   ]
  },
  {
   "cell_type": "code",
   "execution_count": 5,
   "id": "1af960f1",
   "metadata": {},
   "outputs": [],
   "source": [
    "DATASET = 'train.csv'\n",
    "MAIN_FOLDER = 's3://tech-x-final-project'\n",
    "DATA_FOLDER = 'raw-data'\n",
    "OUT_FOLDER = 'clean-data'"
   ]
  },
  {
   "cell_type": "markdown",
   "id": "8ee73b5b",
   "metadata": {},
   "source": [
    "Training data had errors, updated with the train_updates_20220929.csv file\n",
    "\n",
    "Complete pre-processing for provided updates/corrections to training_data\n",
    "(Note: code adapted from competition site code for utilizing update file)"
   ]
  },
  {
   "cell_type": "code",
   "execution_count": 6,
   "id": "d28feaed",
   "metadata": {},
   "outputs": [],
   "source": [
    "df_train = pd.read_csv(os.path.join(MAIN_FOLDER,DATA_FOLDER,DATASET), index_col=\"seq_id\")\n",
    "df_train_updates = pd.read_csv(os.path.join(MAIN_FOLDER,DATA_FOLDER,\"train_updates_20220929.csv\"), index_col=\"seq_id\")\n",
    "all_features_nan = df_train_updates.isnull().all(\"columns\")\n",
    "\n",
    "drop_indices = df_train_updates[all_features_nan].index\n",
    "df_train = df_train.drop(index=drop_indices)\n",
    "swap_ph_tm_indices = df_train_updates[~all_features_nan].index\n",
    "df_train.loc[swap_ph_tm_indices, [\"pH\", \"tm\"]] = df_train_updates.loc[swap_ph_tm_indices, [\"pH\", \"tm\"]]"
   ]
  },
  {
   "cell_type": "code",
   "execution_count": null,
   "id": "67c5f124",
   "metadata": {},
   "outputs": [],
   "source": []
  },
  {
   "cell_type": "markdown",
   "id": "36d7425c",
   "metadata": {},
   "source": [
    "Basic EDA (I did more, but I cleaned it up a bit)\n",
    "\n",
    "Also, turns out there's some data cleaning to do..."
   ]
  },
  {
   "cell_type": "code",
   "execution_count": 7,
   "id": "4ac73436",
   "metadata": {},
   "outputs": [
    {
     "data": {
      "text/plain": [
       "(28981, 4)"
      ]
     },
     "execution_count": 7,
     "metadata": {},
     "output_type": "execute_result"
    }
   ],
   "source": [
    "df_train.shape"
   ]
  },
  {
   "cell_type": "code",
   "execution_count": 8,
   "id": "a1ffd468",
   "metadata": {},
   "outputs": [
    {
     "data": {
      "text/html": [
       "<div>\n",
       "<style scoped>\n",
       "    .dataframe tbody tr th:only-of-type {\n",
       "        vertical-align: middle;\n",
       "    }\n",
       "\n",
       "    .dataframe tbody tr th {\n",
       "        vertical-align: top;\n",
       "    }\n",
       "\n",
       "    .dataframe thead th {\n",
       "        text-align: right;\n",
       "    }\n",
       "</style>\n",
       "<table border=\"1\" class=\"dataframe\">\n",
       "  <thead>\n",
       "    <tr style=\"text-align: right;\">\n",
       "      <th></th>\n",
       "      <th>protein_sequence</th>\n",
       "      <th>pH</th>\n",
       "      <th>data_source</th>\n",
       "      <th>tm</th>\n",
       "    </tr>\n",
       "    <tr>\n",
       "      <th>seq_id</th>\n",
       "      <th></th>\n",
       "      <th></th>\n",
       "      <th></th>\n",
       "      <th></th>\n",
       "    </tr>\n",
       "  </thead>\n",
       "  <tbody>\n",
       "    <tr>\n",
       "      <th>0</th>\n",
       "      <td>AAAAKAAALALLGEAPEVVDIWLPAGWRQPFRVFRLERKGDGVLVG...</td>\n",
       "      <td>7.0</td>\n",
       "      <td>doi.org/10.1038/s41592-020-0801-4</td>\n",
       "      <td>75.7</td>\n",
       "    </tr>\n",
       "    <tr>\n",
       "      <th>1</th>\n",
       "      <td>AAADGEPLHNEEERAGAGQVGRSLPQESEEQRTGSRPRRRRDLGSR...</td>\n",
       "      <td>7.0</td>\n",
       "      <td>doi.org/10.1038/s41592-020-0801-4</td>\n",
       "      <td>50.5</td>\n",
       "    </tr>\n",
       "    <tr>\n",
       "      <th>2</th>\n",
       "      <td>AAAFSTPRATSYRILSSAGSGSTRADAPQVRRLHTTRDLLAKDYYA...</td>\n",
       "      <td>7.0</td>\n",
       "      <td>doi.org/10.1038/s41592-020-0801-4</td>\n",
       "      <td>40.5</td>\n",
       "    </tr>\n",
       "    <tr>\n",
       "      <th>3</th>\n",
       "      <td>AAASGLRTAIPAQPLRHLLQPAPRPCLRPFGLLSVRAGSARRSGLL...</td>\n",
       "      <td>7.0</td>\n",
       "      <td>doi.org/10.1038/s41592-020-0801-4</td>\n",
       "      <td>47.2</td>\n",
       "    </tr>\n",
       "    <tr>\n",
       "      <th>4</th>\n",
       "      <td>AAATKSGPRRQSQGASVRTFTPFYFLVEPVDTLSVRGSSVILNCSA...</td>\n",
       "      <td>7.0</td>\n",
       "      <td>doi.org/10.1038/s41592-020-0801-4</td>\n",
       "      <td>49.5</td>\n",
       "    </tr>\n",
       "  </tbody>\n",
       "</table>\n",
       "</div>"
      ],
      "text/plain": [
       "                                         protein_sequence   pH  \\\n",
       "seq_id                                                           \n",
       "0       AAAAKAAALALLGEAPEVVDIWLPAGWRQPFRVFRLERKGDGVLVG...  7.0   \n",
       "1       AAADGEPLHNEEERAGAGQVGRSLPQESEEQRTGSRPRRRRDLGSR...  7.0   \n",
       "2       AAAFSTPRATSYRILSSAGSGSTRADAPQVRRLHTTRDLLAKDYYA...  7.0   \n",
       "3       AAASGLRTAIPAQPLRHLLQPAPRPCLRPFGLLSVRAGSARRSGLL...  7.0   \n",
       "4       AAATKSGPRRQSQGASVRTFTPFYFLVEPVDTLSVRGSSVILNCSA...  7.0   \n",
       "\n",
       "                              data_source    tm  \n",
       "seq_id                                           \n",
       "0       doi.org/10.1038/s41592-020-0801-4  75.7  \n",
       "1       doi.org/10.1038/s41592-020-0801-4  50.5  \n",
       "2       doi.org/10.1038/s41592-020-0801-4  40.5  \n",
       "3       doi.org/10.1038/s41592-020-0801-4  47.2  \n",
       "4       doi.org/10.1038/s41592-020-0801-4  49.5  "
      ]
     },
     "execution_count": 8,
     "metadata": {},
     "output_type": "execute_result"
    }
   ],
   "source": [
    "df_train.head()"
   ]
  },
  {
   "cell_type": "code",
   "execution_count": 9,
   "id": "6de815b0",
   "metadata": {},
   "outputs": [
    {
     "data": {
      "text/html": [
       "<div>\n",
       "<style scoped>\n",
       "    .dataframe tbody tr th:only-of-type {\n",
       "        vertical-align: middle;\n",
       "    }\n",
       "\n",
       "    .dataframe tbody tr th {\n",
       "        vertical-align: top;\n",
       "    }\n",
       "\n",
       "    .dataframe thead th {\n",
       "        text-align: right;\n",
       "    }\n",
       "</style>\n",
       "<table border=\"1\" class=\"dataframe\">\n",
       "  <thead>\n",
       "    <tr style=\"text-align: right;\">\n",
       "      <th></th>\n",
       "      <th>protein_sequence</th>\n",
       "      <th>pH</th>\n",
       "      <th>data_source</th>\n",
       "      <th>tm</th>\n",
       "    </tr>\n",
       "  </thead>\n",
       "  <tbody>\n",
       "    <tr>\n",
       "      <th>0</th>\n",
       "      <td>AAAAKAAALALLGEAPEVVDIWLPAGWRQPFRVFRLERKGDGVLVG...</td>\n",
       "      <td>7.0</td>\n",
       "      <td>doi.org/10.1038/s41592-020-0801-4</td>\n",
       "      <td>75.7</td>\n",
       "    </tr>\n",
       "    <tr>\n",
       "      <th>1</th>\n",
       "      <td>AAADGEPLHNEEERAGAGQVGRSLPQESEEQRTGSRPRRRRDLGSR...</td>\n",
       "      <td>7.0</td>\n",
       "      <td>doi.org/10.1038/s41592-020-0801-4</td>\n",
       "      <td>50.5</td>\n",
       "    </tr>\n",
       "    <tr>\n",
       "      <th>2</th>\n",
       "      <td>AAAFSTPRATSYRILSSAGSGSTRADAPQVRRLHTTRDLLAKDYYA...</td>\n",
       "      <td>7.0</td>\n",
       "      <td>doi.org/10.1038/s41592-020-0801-4</td>\n",
       "      <td>40.5</td>\n",
       "    </tr>\n",
       "    <tr>\n",
       "      <th>3</th>\n",
       "      <td>AAASGLRTAIPAQPLRHLLQPAPRPCLRPFGLLSVRAGSARRSGLL...</td>\n",
       "      <td>7.0</td>\n",
       "      <td>doi.org/10.1038/s41592-020-0801-4</td>\n",
       "      <td>47.2</td>\n",
       "    </tr>\n",
       "    <tr>\n",
       "      <th>4</th>\n",
       "      <td>AAATKSGPRRQSQGASVRTFTPFYFLVEPVDTLSVRGSSVILNCSA...</td>\n",
       "      <td>7.0</td>\n",
       "      <td>doi.org/10.1038/s41592-020-0801-4</td>\n",
       "      <td>49.5</td>\n",
       "    </tr>\n",
       "  </tbody>\n",
       "</table>\n",
       "</div>"
      ],
      "text/plain": [
       "                                    protein_sequence   pH  \\\n",
       "0  AAAAKAAALALLGEAPEVVDIWLPAGWRQPFRVFRLERKGDGVLVG...  7.0   \n",
       "1  AAADGEPLHNEEERAGAGQVGRSLPQESEEQRTGSRPRRRRDLGSR...  7.0   \n",
       "2  AAAFSTPRATSYRILSSAGSGSTRADAPQVRRLHTTRDLLAKDYYA...  7.0   \n",
       "3  AAASGLRTAIPAQPLRHLLQPAPRPCLRPFGLLSVRAGSARRSGLL...  7.0   \n",
       "4  AAATKSGPRRQSQGASVRTFTPFYFLVEPVDTLSVRGSSVILNCSA...  7.0   \n",
       "\n",
       "                         data_source    tm  \n",
       "0  doi.org/10.1038/s41592-020-0801-4  75.7  \n",
       "1  doi.org/10.1038/s41592-020-0801-4  50.5  \n",
       "2  doi.org/10.1038/s41592-020-0801-4  40.5  \n",
       "3  doi.org/10.1038/s41592-020-0801-4  47.2  \n",
       "4  doi.org/10.1038/s41592-020-0801-4  49.5  "
      ]
     },
     "execution_count": 9,
     "metadata": {},
     "output_type": "execute_result"
    }
   ],
   "source": [
    "df_train = df_train.reset_index().drop('seq_id', axis=1)\n",
    "df_train.head()"
   ]
  },
  {
   "cell_type": "code",
   "execution_count": 10,
   "id": "65c74388",
   "metadata": {},
   "outputs": [
    {
     "name": "stdout",
     "output_type": "stream",
     "text": [
      "<class 'pandas.core.frame.DataFrame'>\n",
      "RangeIndex: 28981 entries, 0 to 28980\n",
      "Data columns (total 4 columns):\n",
      " #   Column            Non-Null Count  Dtype  \n",
      "---  ------            --------------  -----  \n",
      " 0   protein_sequence  28981 non-null  object \n",
      " 1   pH                28695 non-null  float64\n",
      " 2   data_source       28001 non-null  object \n",
      " 3   tm                28981 non-null  float64\n",
      "dtypes: float64(2), object(2)\n",
      "memory usage: 905.8+ KB\n"
     ]
    }
   ],
   "source": [
    "df_train.info()"
   ]
  },
  {
   "cell_type": "code",
   "execution_count": 11,
   "id": "b0af95c5",
   "metadata": {},
   "outputs": [
    {
     "data": {
      "text/plain": [
       "protein_sequence    False\n",
       "pH                   True\n",
       "data_source          True\n",
       "tm                  False\n",
       "dtype: bool"
      ]
     },
     "execution_count": 11,
     "metadata": {},
     "output_type": "execute_result"
    }
   ],
   "source": [
    "df_train.isnull().any()"
   ]
  },
  {
   "cell_type": "code",
   "execution_count": 12,
   "id": "28426bd7",
   "metadata": {},
   "outputs": [
    {
     "name": "stdout",
     "output_type": "stream",
     "text": [
      "28981\n",
      "28973\n"
     ]
    }
   ],
   "source": [
    "# Check for & remove duplicates - there are a few\n",
    "print(len(df_train))\n",
    "df_train = df_train.drop_duplicates()\n",
    "print(len(df_train))"
   ]
  },
  {
   "cell_type": "code",
   "execution_count": 13,
   "id": "30489d64",
   "metadata": {},
   "outputs": [
    {
     "data": {
      "text/html": [
       "<div>\n",
       "<style scoped>\n",
       "    .dataframe tbody tr th:only-of-type {\n",
       "        vertical-align: middle;\n",
       "    }\n",
       "\n",
       "    .dataframe tbody tr th {\n",
       "        vertical-align: top;\n",
       "    }\n",
       "\n",
       "    .dataframe thead th {\n",
       "        text-align: right;\n",
       "    }\n",
       "</style>\n",
       "<table border=\"1\" class=\"dataframe\">\n",
       "  <thead>\n",
       "    <tr style=\"text-align: right;\">\n",
       "      <th></th>\n",
       "      <th>pH</th>\n",
       "      <th>tm</th>\n",
       "    </tr>\n",
       "  </thead>\n",
       "  <tbody>\n",
       "    <tr>\n",
       "      <th>count</th>\n",
       "      <td>28687.000000</td>\n",
       "      <td>28973.000000</td>\n",
       "    </tr>\n",
       "    <tr>\n",
       "      <th>mean</th>\n",
       "      <td>6.872582</td>\n",
       "      <td>51.360494</td>\n",
       "    </tr>\n",
       "    <tr>\n",
       "      <th>std</th>\n",
       "      <td>0.792910</td>\n",
       "      <td>12.057844</td>\n",
       "    </tr>\n",
       "    <tr>\n",
       "      <th>min</th>\n",
       "      <td>1.990000</td>\n",
       "      <td>25.100000</td>\n",
       "    </tr>\n",
       "    <tr>\n",
       "      <th>25%</th>\n",
       "      <td>7.000000</td>\n",
       "      <td>43.600000</td>\n",
       "    </tr>\n",
       "    <tr>\n",
       "      <th>50%</th>\n",
       "      <td>7.000000</td>\n",
       "      <td>48.800000</td>\n",
       "    </tr>\n",
       "    <tr>\n",
       "      <th>75%</th>\n",
       "      <td>7.000000</td>\n",
       "      <td>54.600000</td>\n",
       "    </tr>\n",
       "    <tr>\n",
       "      <th>max</th>\n",
       "      <td>11.000000</td>\n",
       "      <td>130.000000</td>\n",
       "    </tr>\n",
       "  </tbody>\n",
       "</table>\n",
       "</div>"
      ],
      "text/plain": [
       "                 pH            tm\n",
       "count  28687.000000  28973.000000\n",
       "mean       6.872582     51.360494\n",
       "std        0.792910     12.057844\n",
       "min        1.990000     25.100000\n",
       "25%        7.000000     43.600000\n",
       "50%        7.000000     48.800000\n",
       "75%        7.000000     54.600000\n",
       "max       11.000000    130.000000"
      ]
     },
     "execution_count": 13,
     "metadata": {},
     "output_type": "execute_result"
    }
   ],
   "source": [
    "df_train.describe()"
   ]
  },
  {
   "cell_type": "code",
   "execution_count": 14,
   "id": "1f105155",
   "metadata": {},
   "outputs": [
    {
     "data": {
      "text/plain": [
       "protein_sequence      0\n",
       "pH                  286\n",
       "data_source         972\n",
       "tm                    0\n",
       "dtype: int64"
      ]
     },
     "execution_count": 14,
     "metadata": {},
     "output_type": "execute_result"
    }
   ],
   "source": [
    "df_train.isnull().sum()"
   ]
  },
  {
   "cell_type": "code",
   "execution_count": 15,
   "id": "27a4aaf8",
   "metadata": {},
   "outputs": [
    {
     "data": {
      "text/plain": [
       "protein_sequence    False\n",
       "pH                   True\n",
       "data_source          True\n",
       "tm                  False\n",
       "dtype: bool"
      ]
     },
     "execution_count": 15,
     "metadata": {},
     "output_type": "execute_result"
    }
   ],
   "source": [
    "# Some pH data is missing\n",
    "df_train.isnull().any()"
   ]
  },
  {
   "cell_type": "code",
   "execution_count": 16,
   "id": "44d01ad9",
   "metadata": {},
   "outputs": [
    {
     "data": {
      "text/html": [
       "<div>\n",
       "<style scoped>\n",
       "    .dataframe tbody tr th:only-of-type {\n",
       "        vertical-align: middle;\n",
       "    }\n",
       "\n",
       "    .dataframe tbody tr th {\n",
       "        vertical-align: top;\n",
       "    }\n",
       "\n",
       "    .dataframe thead th {\n",
       "        text-align: right;\n",
       "    }\n",
       "</style>\n",
       "<table border=\"1\" class=\"dataframe\">\n",
       "  <thead>\n",
       "    <tr style=\"text-align: right;\">\n",
       "      <th></th>\n",
       "      <th>protein_sequence</th>\n",
       "      <th>pH</th>\n",
       "      <th>data_source</th>\n",
       "      <th>tm</th>\n",
       "    </tr>\n",
       "  </thead>\n",
       "  <tbody>\n",
       "    <tr>\n",
       "      <th>0</th>\n",
       "      <td>AAAAKAAALALLGEAPEVVDIWLPAGWRQPFRVFRLERKGDGVLVG...</td>\n",
       "      <td>7.0</td>\n",
       "      <td>doi.org/10.1038/s41592-020-0801-4</td>\n",
       "      <td>75.7</td>\n",
       "    </tr>\n",
       "    <tr>\n",
       "      <th>1</th>\n",
       "      <td>AAADGEPLHNEEERAGAGQVGRSLPQESEEQRTGSRPRRRRDLGSR...</td>\n",
       "      <td>7.0</td>\n",
       "      <td>doi.org/10.1038/s41592-020-0801-4</td>\n",
       "      <td>50.5</td>\n",
       "    </tr>\n",
       "    <tr>\n",
       "      <th>2</th>\n",
       "      <td>AAAFSTPRATSYRILSSAGSGSTRADAPQVRRLHTTRDLLAKDYYA...</td>\n",
       "      <td>7.0</td>\n",
       "      <td>doi.org/10.1038/s41592-020-0801-4</td>\n",
       "      <td>40.5</td>\n",
       "    </tr>\n",
       "    <tr>\n",
       "      <th>3</th>\n",
       "      <td>AAASGLRTAIPAQPLRHLLQPAPRPCLRPFGLLSVRAGSARRSGLL...</td>\n",
       "      <td>7.0</td>\n",
       "      <td>doi.org/10.1038/s41592-020-0801-4</td>\n",
       "      <td>47.2</td>\n",
       "    </tr>\n",
       "    <tr>\n",
       "      <th>4</th>\n",
       "      <td>AAATKSGPRRQSQGASVRTFTPFYFLVEPVDTLSVRGSSVILNCSA...</td>\n",
       "      <td>7.0</td>\n",
       "      <td>doi.org/10.1038/s41592-020-0801-4</td>\n",
       "      <td>49.5</td>\n",
       "    </tr>\n",
       "  </tbody>\n",
       "</table>\n",
       "</div>"
      ],
      "text/plain": [
       "                                    protein_sequence   pH  \\\n",
       "0  AAAAKAAALALLGEAPEVVDIWLPAGWRQPFRVFRLERKGDGVLVG...  7.0   \n",
       "1  AAADGEPLHNEEERAGAGQVGRSLPQESEEQRTGSRPRRRRDLGSR...  7.0   \n",
       "2  AAAFSTPRATSYRILSSAGSGSTRADAPQVRRLHTTRDLLAKDYYA...  7.0   \n",
       "3  AAASGLRTAIPAQPLRHLLQPAPRPCLRPFGLLSVRAGSARRSGLL...  7.0   \n",
       "4  AAATKSGPRRQSQGASVRTFTPFYFLVEPVDTLSVRGSSVILNCSA...  7.0   \n",
       "\n",
       "                         data_source    tm  \n",
       "0  doi.org/10.1038/s41592-020-0801-4  75.7  \n",
       "1  doi.org/10.1038/s41592-020-0801-4  50.5  \n",
       "2  doi.org/10.1038/s41592-020-0801-4  40.5  \n",
       "3  doi.org/10.1038/s41592-020-0801-4  47.2  \n",
       "4  doi.org/10.1038/s41592-020-0801-4  49.5  "
      ]
     },
     "execution_count": 16,
     "metadata": {},
     "output_type": "execute_result"
    }
   ],
   "source": [
    "df_train.head()"
   ]
  },
  {
   "cell_type": "code",
   "execution_count": 17,
   "id": "fde19b32",
   "metadata": {},
   "outputs": [
    {
     "data": {
      "text/html": [
       "<div>\n",
       "<style scoped>\n",
       "    .dataframe tbody tr th:only-of-type {\n",
       "        vertical-align: middle;\n",
       "    }\n",
       "\n",
       "    .dataframe tbody tr th {\n",
       "        vertical-align: top;\n",
       "    }\n",
       "\n",
       "    .dataframe thead th {\n",
       "        text-align: right;\n",
       "    }\n",
       "</style>\n",
       "<table border=\"1\" class=\"dataframe\">\n",
       "  <thead>\n",
       "    <tr style=\"text-align: right;\">\n",
       "      <th></th>\n",
       "      <th>protein_sequence</th>\n",
       "      <th>pH</th>\n",
       "      <th>tm</th>\n",
       "    </tr>\n",
       "    <tr>\n",
       "      <th>data_source</th>\n",
       "      <th></th>\n",
       "      <th></th>\n",
       "      <th></th>\n",
       "    </tr>\n",
       "  </thead>\n",
       "  <tbody>\n",
       "    <tr>\n",
       "      <th>10.1002/(sici)1097-0134(19980301)30:4&lt;401::aid-prot7&gt;3.0.co;2-l</th>\n",
       "      <td>4</td>\n",
       "      <td>4</td>\n",
       "      <td>4</td>\n",
       "    </tr>\n",
       "    <tr>\n",
       "      <th>10.1002/(sici)1097-0134(19990215)34:3&lt;303::aid-prot4&gt;3.0.co;2-h</th>\n",
       "      <td>1</td>\n",
       "      <td>1</td>\n",
       "      <td>1</td>\n",
       "    </tr>\n",
       "    <tr>\n",
       "      <th>10.1002/bip.1981.360200921</th>\n",
       "      <td>5</td>\n",
       "      <td>5</td>\n",
       "      <td>5</td>\n",
       "    </tr>\n",
       "    <tr>\n",
       "      <th>10.1002/bip.360261104</th>\n",
       "      <td>4</td>\n",
       "      <td>4</td>\n",
       "      <td>4</td>\n",
       "    </tr>\n",
       "    <tr>\n",
       "      <th>10.1002/bip.360321103</th>\n",
       "      <td>10</td>\n",
       "      <td>10</td>\n",
       "      <td>10</td>\n",
       "    </tr>\n",
       "    <tr>\n",
       "      <th>...</th>\n",
       "      <td>...</td>\n",
       "      <td>...</td>\n",
       "      <td>...</td>\n",
       "    </tr>\n",
       "    <tr>\n",
       "      <th>10.1529/biophysj.106.103804</th>\n",
       "      <td>10</td>\n",
       "      <td>10</td>\n",
       "      <td>10</td>\n",
       "    </tr>\n",
       "    <tr>\n",
       "      <th>10.2210/pdb1l16/pdb</th>\n",
       "      <td>2</td>\n",
       "      <td>2</td>\n",
       "      <td>2</td>\n",
       "    </tr>\n",
       "    <tr>\n",
       "      <th>10.7554/eLife.34729</th>\n",
       "      <td>30</td>\n",
       "      <td>30</td>\n",
       "      <td>30</td>\n",
       "    </tr>\n",
       "    <tr>\n",
       "      <th>10.7554/eLife.54639</th>\n",
       "      <td>151</td>\n",
       "      <td>0</td>\n",
       "      <td>151</td>\n",
       "    </tr>\n",
       "    <tr>\n",
       "      <th>doi.org/10.1038/s41592-020-0801-4</th>\n",
       "      <td>24525</td>\n",
       "      <td>24525</td>\n",
       "      <td>24525</td>\n",
       "    </tr>\n",
       "  </tbody>\n",
       "</table>\n",
       "<p>324 rows × 3 columns</p>\n",
       "</div>"
      ],
      "text/plain": [
       "                                                    protein_sequence     pH  \\\n",
       "data_source                                                                   \n",
       "10.1002/(sici)1097-0134(19980301)30:4<401::aid-...                 4      4   \n",
       "10.1002/(sici)1097-0134(19990215)34:3<303::aid-...                 1      1   \n",
       "10.1002/bip.1981.360200921                                         5      5   \n",
       "10.1002/bip.360261104                                              4      4   \n",
       "10.1002/bip.360321103                                             10     10   \n",
       "...                                                              ...    ...   \n",
       "10.1529/biophysj.106.103804                                       10     10   \n",
       "10.2210/pdb1l16/pdb                                                2      2   \n",
       "10.7554/eLife.34729                                               30     30   \n",
       "10.7554/eLife.54639                                              151      0   \n",
       "doi.org/10.1038/s41592-020-0801-4                              24525  24525   \n",
       "\n",
       "                                                       tm  \n",
       "data_source                                                \n",
       "10.1002/(sici)1097-0134(19980301)30:4<401::aid-...      4  \n",
       "10.1002/(sici)1097-0134(19990215)34:3<303::aid-...      1  \n",
       "10.1002/bip.1981.360200921                              5  \n",
       "10.1002/bip.360261104                                   4  \n",
       "10.1002/bip.360321103                                  10  \n",
       "...                                                   ...  \n",
       "10.1529/biophysj.106.103804                            10  \n",
       "10.2210/pdb1l16/pdb                                     2  \n",
       "10.7554/eLife.34729                                    30  \n",
       "10.7554/eLife.54639                                   151  \n",
       "doi.org/10.1038/s41592-020-0801-4                   24525  \n",
       "\n",
       "[324 rows x 3 columns]"
      ]
     },
     "execution_count": 17,
     "metadata": {},
     "output_type": "execute_result"
    }
   ],
   "source": [
    "df_train.groupby(['data_source']).count()"
   ]
  },
  {
   "cell_type": "code",
   "execution_count": 18,
   "id": "ebf57c91",
   "metadata": {},
   "outputs": [
    {
     "data": {
      "text/plain": [
       "protein_sequence    27375\n",
       "pH                    104\n",
       "data_source           324\n",
       "tm                    725\n",
       "dtype: int64"
      ]
     },
     "execution_count": 18,
     "metadata": {},
     "output_type": "execute_result"
    }
   ],
   "source": [
    "# Note: duplicate protein_sequences (total n > 27375)\n",
    "df_train.nunique()"
   ]
  },
  {
   "cell_type": "markdown",
   "id": "c3f2d75b",
   "metadata": {},
   "source": [
    "Look at distribution of pH"
   ]
  },
  {
   "cell_type": "code",
   "execution_count": 19,
   "id": "fe5c2bcf",
   "metadata": {},
   "outputs": [
    {
     "data": {
      "text/plain": [
       "<seaborn.axisgrid.FacetGrid at 0x7fc3db6de830>"
      ]
     },
     "execution_count": 19,
     "metadata": {},
     "output_type": "execute_result"
    },
    {
     "data": {
      "image/png": "[encoded data removed]",
      "text/plain": [
       "<Figure size 500x500 with 1 Axes>"
      ]
     },
     "metadata": {},
     "output_type": "display_data"
    }
   ],
   "source": [
    "sns.displot(df_train.pH)"
   ]
  },
  {
   "cell_type": "code",
   "execution_count": 20,
   "id": "054fab52",
   "metadata": {},
   "outputs": [
    {
     "data": {
      "text/plain": [
       "<seaborn.axisgrid.FacetGrid at 0x7fc3da49cb80>"
      ]
     },
     "execution_count": 20,
     "metadata": {},
     "output_type": "execute_result"
    },
    {
     "data": {
      "image/png": "[encoded data removed]",
      "text/plain": [
       "<Figure size 500x500 with 1 Axes>"
      ]
     },
     "metadata": {},
     "output_type": "display_data"
    }
   ],
   "source": [
    "sns.displot(df_train.tm)"
   ]
  },
  {
   "cell_type": "code",
   "execution_count": 21,
   "id": "8223ebf0",
   "metadata": {},
   "outputs": [
    {
     "data": {
      "text/plain": [
       "<seaborn.axisgrid.PairGrid at 0x7fc3da205210>"
      ]
     },
     "execution_count": 21,
     "metadata": {},
     "output_type": "execute_result"
    },
    {
     "data": {
      "image/png": "[encoded data removed]",
      "text/plain": [
       "<Figure size 500x500 with 6 Axes>"
      ]
     },
     "metadata": {},
     "output_type": "display_data"
    }
   ],
   "source": [
    "sns.pairplot(df_train)"
   ]
  },
  {
   "cell_type": "markdown",
   "id": "ae9bb679",
   "metadata": {},
   "source": [
    "pH is really unbalanced, and protein-sequence has duplicates. Look into making a problem sub-set by considering only items with pH of 7"
   ]
  },
  {
   "cell_type": "code",
   "execution_count": 22,
   "id": "aec83ea7",
   "metadata": {},
   "outputs": [
    {
     "name": "stdout",
     "output_type": "stream",
     "text": [
      "(28973, 4) (26990, 4)\n",
      "protein_sequence    26318\n",
      "pH                     21\n",
      "data_source           190\n",
      "tm                    712\n",
      "dtype: int64\n"
     ]
    }
   ],
   "source": [
    "df_train1 = df_train[df_train.pH.between(6.0, 8.0, inclusive='both')]\n",
    "print(df_train.shape, df_train1.shape)\n",
    "print(df_train1.nunique())"
   ]
  },
  {
   "cell_type": "code",
   "execution_count": 23,
   "id": "8be0c64e",
   "metadata": {},
   "outputs": [
    {
     "name": "stdout",
     "output_type": "stream",
     "text": [
      "                                                          pH         tm\n",
      "protein_sequence                                                       \n",
      "MLSRAVCGTSRQLAPVLGYLGSRQKHSLPDLPYDYGALEPHINAQIM...  0.000000  22.980970\n",
      "MPEKSLYEMAVEQFNRAASLMDLESDLAEVLRRPKRVLIVEFPVRMD...  0.000000  22.556706\n",
      "MSSKEQKTPEGQAPEEIIMDQHEEIEAVEPEASAEQVDPRDEKVANL...  0.000000  21.920310\n",
      "MERYESLFAQLKERKEGAFVPFVTLGDPGIEQSLKIIDTLIEAGADA...  0.000000  19.798990\n",
      "MRNTGAGPSPSVSRPPPSAAPLSGAALAAPGDAPSALYAPSALGLTV...  0.707107  19.586858\n",
      "MRNTGAGPSPSVSRPPPSAAPLSGAALAAPGDAPSALYAPSALVLTV...  0.070711  19.516147\n",
      "MKIKTGARILALSALTTMMFSASALAKIEEGKLVIWINGDKGYNGLA...  0.472582  19.313985\n",
      "MPEKSLYEMAVEQFNRAASLMDLESDLAEVLRRPKRVLIVEFPVRMD...  0.000000  19.237550\n",
      "MKIKTGARILALSALTTMMFSASALAKIEEGKLVIWINGDKGYNGLA...  0.472582  18.251667\n",
      "MQRGKVKWFNSEKGYGFIEVEGGSDVFVHFTAIQGEGFKTLEEGQEV...  0.000000  18.244269\n",
      "MMSFVSLLLVGILFHATQAEQLTKCEVFRELKDLKGYGGVSLPEWVC...  0.000000  18.101934\n",
      "MSKKIGLFYGTQTGKTESVAEIIRDEFGNDVVTLHDVSQAEVTDLND...  0.000000  17.889802\n",
      "MKIKTGARILALSALTTMMFSASALAKIEEGKLVIWINGDKGYNGLA...  0.432049  17.130942\n",
      "MSKKIGLFYGTQTGKTESVAEIIRDEFGNDVVTLHDVSQAEVTDLND...  0.000000  16.899852\n",
      "MQLGKVKWFNNEKGYGFIEVEGGSDVFVHFTAIQGEGFKTLEEGQEV...  0.000000  16.475588\n",
      "26990\n"
     ]
    },
    {
     "name": "stderr",
     "output_type": "stream",
     "text": [
      "/tmp/ipykernel_22680/2420568783.py:2: FutureWarning: The default value of numeric_only in DataFrameGroupBy.std is deprecated. In a future version, numeric_only will default to False. Either specify numeric_only or select only columns which should be valid for the function.\n",
      "  tmp = df_train1.groupby('protein_sequence').std().sort_values('tm', ascending=False)\n"
     ]
    }
   ],
   "source": [
    "# Still duplicate protein_sequences, Look at tm for those.  Results show some highly variable (high standard dev.) tm values\n",
    "tmp = df_train1.groupby('protein_sequence').std().sort_values('tm', ascending=False)\n",
    "print(tmp.head(15))\n",
    "print(len(df_train1))"
   ]
  },
  {
   "cell_type": "markdown",
   "id": "0da9c1ba",
   "metadata": {},
   "source": [
    "Since some of these tm values vary pretty wildly, we'll start WITHOUT the ones that have different measurements."
   ]
  },
  {
   "cell_type": "code",
   "execution_count": 24,
   "id": "daa36385",
   "metadata": {},
   "outputs": [
    {
     "name": "stdout",
     "output_type": "stream",
     "text": [
      "                                    protein_sequence  pH  data_source  tm\n",
      "0  DTSGTVCLSALPPEATDTLNLIASDGPFPYSQDGVVFQNRESVLPT...   3            1   3\n",
      "1  DVSGTVCLSALPPEATDTLNLIASDGPFPYSQAGVVFQNRESVLPT...   2            1   2\n",
      "2  DVSGTVCLSALPPEATDTLNLIASDGPFPYSQDGVTFQNRESVLPT...   3            1   3\n",
      "3  DVSGTVCLSALPPEATDTLNLIASDGPFPYSQDGVVFANRESVLPT...   4            1   4\n",
      "4  DVSGTVCLSALPPEATDTLNLIASDGPFPYSQDGVVFQARESVLPT...   3            1   3 \n",
      " 456\n",
      "26990\n",
      "25862\n"
     ]
    }
   ],
   "source": [
    "cnts = df_train1.groupby('protein_sequence').count()\n",
    "drops = cnts[cnts.tm > 1].reset_index()\n",
    "print(drops.head(),\"\\n\", len(drops))\n",
    "drops  = list(drops.protein_sequence)\n",
    "# drops = list(drops.protein_sequence)\n",
    "print(len(df_train1))\n",
    "df = df_train1[~df_train1.protein_sequence.isin(drops)]\n",
    "print(len(df))"
   ]
  },
  {
   "cell_type": "code",
   "execution_count": 25,
   "id": "5cc35a57",
   "metadata": {},
   "outputs": [],
   "source": [
    "# print(df.shape)\n",
    "# print(df.nunique())\n",
    "# df = df.drop(['pH','data_source'], axis=1)\n",
    "# df.to_csv(os.path.join(file_loc,\"clean_data.csv\"))"
   ]
  },
  {
   "cell_type": "code",
   "execution_count": 26,
   "id": "8441f10c",
   "metadata": {},
   "outputs": [],
   "source": [
    "dfout = df.drop('data_source',axis=1)\n",
    "dfout.head()\n",
    "dfout = dfout.rename(columns={'tm':'label'})\n",
    "# dfout = dfout[['label','protein_sequence']]"
   ]
  },
  {
   "cell_type": "code",
   "execution_count": 27,
   "id": "35c966bf",
   "metadata": {},
   "outputs": [
    {
     "data": {
      "text/html": [
       "<div>\n",
       "<style scoped>\n",
       "    .dataframe tbody tr th:only-of-type {\n",
       "        vertical-align: middle;\n",
       "    }\n",
       "\n",
       "    .dataframe tbody tr th {\n",
       "        vertical-align: top;\n",
       "    }\n",
       "\n",
       "    .dataframe thead th {\n",
       "        text-align: right;\n",
       "    }\n",
       "</style>\n",
       "<table border=\"1\" class=\"dataframe\">\n",
       "  <thead>\n",
       "    <tr style=\"text-align: right;\">\n",
       "      <th></th>\n",
       "      <th>protein_sequence</th>\n",
       "      <th>pH</th>\n",
       "      <th>label</th>\n",
       "    </tr>\n",
       "  </thead>\n",
       "  <tbody>\n",
       "    <tr>\n",
       "      <th>0</th>\n",
       "      <td>AAAAKAAALALLGEAPEVVDIWLPAGWRQPFRVFRLERKGDGVLVG...</td>\n",
       "      <td>7.0</td>\n",
       "      <td>75.7</td>\n",
       "    </tr>\n",
       "    <tr>\n",
       "      <th>1</th>\n",
       "      <td>AAADGEPLHNEEERAGAGQVGRSLPQESEEQRTGSRPRRRRDLGSR...</td>\n",
       "      <td>7.0</td>\n",
       "      <td>50.5</td>\n",
       "    </tr>\n",
       "    <tr>\n",
       "      <th>2</th>\n",
       "      <td>AAAFSTPRATSYRILSSAGSGSTRADAPQVRRLHTTRDLLAKDYYA...</td>\n",
       "      <td>7.0</td>\n",
       "      <td>40.5</td>\n",
       "    </tr>\n",
       "    <tr>\n",
       "      <th>3</th>\n",
       "      <td>AAASGLRTAIPAQPLRHLLQPAPRPCLRPFGLLSVRAGSARRSGLL...</td>\n",
       "      <td>7.0</td>\n",
       "      <td>47.2</td>\n",
       "    </tr>\n",
       "    <tr>\n",
       "      <th>4</th>\n",
       "      <td>AAATKSGPRRQSQGASVRTFTPFYFLVEPVDTLSVRGSSVILNCSA...</td>\n",
       "      <td>7.0</td>\n",
       "      <td>49.5</td>\n",
       "    </tr>\n",
       "  </tbody>\n",
       "</table>\n",
       "</div>"
      ],
      "text/plain": [
       "                                    protein_sequence   pH  label\n",
       "0  AAAAKAAALALLGEAPEVVDIWLPAGWRQPFRVFRLERKGDGVLVG...  7.0   75.7\n",
       "1  AAADGEPLHNEEERAGAGQVGRSLPQESEEQRTGSRPRRRRDLGSR...  7.0   50.5\n",
       "2  AAAFSTPRATSYRILSSAGSGSTRADAPQVRRLHTTRDLLAKDYYA...  7.0   40.5\n",
       "3  AAASGLRTAIPAQPLRHLLQPAPRPCLRPFGLLSVRAGSARRSGLL...  7.0   47.2\n",
       "4  AAATKSGPRRQSQGASVRTFTPFYFLVEPVDTLSVRGSSVILNCSA...  7.0   49.5"
      ]
     },
     "execution_count": 27,
     "metadata": {},
     "output_type": "execute_result"
    }
   ],
   "source": [
    "dfout.head()"
   ]
  },
  {
   "cell_type": "code",
   "execution_count": 28,
   "id": "c1bd35ca",
   "metadata": {},
   "outputs": [
    {
     "name": "stdout",
     "output_type": "stream",
     "text": [
      "25862 20689 5173\n"
     ]
    }
   ],
   "source": [
    "# Make Test/Train split\n",
    "train_data, test_data = np.split(dfout.sample(frac=1, random_state=1729), [int(0.8 * len(dfout)),])\n",
    "print(len(dfout), len(train_data), len(test_data))\n"
   ]
  },
  {
   "cell_type": "code",
   "execution_count": 29,
   "id": "3a1856c1",
   "metadata": {},
   "outputs": [],
   "source": [
    "\n",
    "\n",
    "train_data.to_csv(os.path.join(MAIN_FOLDER,OUT_FOLDER,'clean_train.csv'), index=False, header=False)\n",
    "test_data.to_csv(os.path.join(MAIN_FOLDER,OUT_FOLDER,'clean_test.csv'), index=False, header=False)\n",
    "# boto3.Session().resource('s3').Bucket(bucket_name).Object(os.path.join(MAIN_FOLDER,OUT_FOLDER,'cleana.csv')).upload_file('cleana.csv')\n",
    "# s3_input_train = sagemaker.TrainingInput(s3_data='s3://{}/{}/clean-data'.format(bucket_name, OUT_FOLDER), content_type='text/csv')"
   ]
  },
  {
   "cell_type": "code",
   "execution_count": 30,
   "id": "da769b1c",
   "metadata": {},
   "outputs": [
    {
     "data": {
      "text/html": [
       "<div>\n",
       "<style scoped>\n",
       "    .dataframe tbody tr th:only-of-type {\n",
       "        vertical-align: middle;\n",
       "    }\n",
       "\n",
       "    .dataframe tbody tr th {\n",
       "        vertical-align: top;\n",
       "    }\n",
       "\n",
       "    .dataframe thead th {\n",
       "        text-align: right;\n",
       "    }\n",
       "</style>\n",
       "<table border=\"1\" class=\"dataframe\">\n",
       "  <thead>\n",
       "    <tr style=\"text-align: right;\">\n",
       "      <th></th>\n",
       "      <th>protein_sequence</th>\n",
       "      <th>pH</th>\n",
       "      <th>label</th>\n",
       "    </tr>\n",
       "  </thead>\n",
       "  <tbody>\n",
       "    <tr>\n",
       "      <th>7896</th>\n",
       "      <td>MDSDYIFHNGDDIRNMGLEEMRRQKVLLASELKAIDAQISDLAFNN...</td>\n",
       "      <td>7.0</td>\n",
       "      <td>38.5</td>\n",
       "    </tr>\n",
       "    <tr>\n",
       "      <th>6006</th>\n",
       "      <td>MASINLIKSLKLYKEKIWSFDFSQGILATGSTDRKIKLVSVKYDDF...</td>\n",
       "      <td>7.0</td>\n",
       "      <td>48.4</td>\n",
       "    </tr>\n",
       "    <tr>\n",
       "      <th>19171</th>\n",
       "      <td>MQHSSMKVDLSNFFKDERRNSLVFIDAAWNNIKDLQDHIQNLFSLK...</td>\n",
       "      <td>7.0</td>\n",
       "      <td>41.6</td>\n",
       "    </tr>\n",
       "    <tr>\n",
       "      <th>15125</th>\n",
       "      <td>MLRRMNTFSGQKLAAVVKELENFAPTSWAEKWDNVGLLIEPHREKQ...</td>\n",
       "      <td>7.0</td>\n",
       "      <td>52.7</td>\n",
       "    </tr>\n",
       "    <tr>\n",
       "      <th>28135</th>\n",
       "      <td>SPIENLFKYRAVKASHSKNINSTLPAWNGSNSSNVTYANGTNSTTN...</td>\n",
       "      <td>7.0</td>\n",
       "      <td>53.4</td>\n",
       "    </tr>\n",
       "  </tbody>\n",
       "</table>\n",
       "</div>"
      ],
      "text/plain": [
       "                                        protein_sequence   pH  label\n",
       "7896   MDSDYIFHNGDDIRNMGLEEMRRQKVLLASELKAIDAQISDLAFNN...  7.0   38.5\n",
       "6006   MASINLIKSLKLYKEKIWSFDFSQGILATGSTDRKIKLVSVKYDDF...  7.0   48.4\n",
       "19171  MQHSSMKVDLSNFFKDERRNSLVFIDAAWNNIKDLQDHIQNLFSLK...  7.0   41.6\n",
       "15125  MLRRMNTFSGQKLAAVVKELENFAPTSWAEKWDNVGLLIEPHREKQ...  7.0   52.7\n",
       "28135  SPIENLFKYRAVKASHSKNINSTLPAWNGSNSSNVTYANGTNSTTN...  7.0   53.4"
      ]
     },
     "execution_count": 30,
     "metadata": {},
     "output_type": "execute_result"
    }
   ],
   "source": [
    "train_data.head()"
   ]
  },
  {
   "cell_type": "code",
   "execution_count": 60,
   "id": "10a470ce",
   "metadata": {},
   "outputs": [],
   "source": [
    "# s3.meta.client.upload_file(Filename = 'clean.csv', Bucket= bucket_name, Key = 'clean.csv')"
   ]
  },
  {
   "cell_type": "code",
   "execution_count": 61,
   "id": "7c32583e",
   "metadata": {},
   "outputs": [
    {
     "data": {
      "text/plain": [
       "<seaborn.axisgrid.FacetGrid at 0x7fc0246b6830>"
      ]
     },
     "execution_count": 61,
     "metadata": {},
     "output_type": "execute_result"
    },
    {
     "data": {
      "image/png": "[encoded data removed]",
      "text/plain": [
       "<Figure size 500x500 with 1 Axes>"
      ]
     },
     "metadata": {},
     "output_type": "display_data"
    }
   ],
   "source": [
    "#Some EDA on the sequence length\n",
    "dfout['sequence length'] = dfout['protein_sequence'].map(len)\n",
    "\n",
    "sns.displot(dfout['sequence length'])"
   ]
  },
  {
   "cell_type": "code",
   "execution_count": 62,
   "id": "8fe0a982",
   "metadata": {},
   "outputs": [
    {
     "data": {
      "text/plain": [
       "count    25862.000000\n",
       "mean       478.919302\n",
       "std        425.116676\n",
       "min          5.000000\n",
       "25%        239.000000\n",
       "50%        378.000000\n",
       "75%        568.000000\n",
       "max       8798.000000\n",
       "Name: sequence length, dtype: float64"
      ]
     },
     "execution_count": 62,
     "metadata": {},
     "output_type": "execute_result"
    }
   ],
   "source": [
    "dfout['sequence length'].describe()"
   ]
  },
  {
   "cell_type": "code",
   "execution_count": 63,
   "id": "8fba1db4",
   "metadata": {},
   "outputs": [],
   "source": [
    "from sklearn.feature_extraction.text import CountVectorizer\n",
    "vectorizer = CountVectorizer(analyzer='char', ngram_range=(1,1))\n",
    " \n",
    "term_matrix = vectorizer.fit_transform(dfout.protein_sequence)\n",
    "features = vectorizer.get_feature_names_out()\n"
   ]
  },
  {
   "cell_type": "code",
   "execution_count": 64,
   "id": "c4648021",
   "metadata": {},
   "outputs": [],
   "source": [
    "# print(features)\n",
    "# print(len(features))"
   ]
  },
  {
   "cell_type": "code",
   "execution_count": 65,
   "id": "85157893",
   "metadata": {},
   "outputs": [],
   "source": [
    "#OUTPUT features for autoML\n",
    "# import Features_Modules as fm\n",
    "\n",
    "# df = fm.read_clean_data()\n",
    "# model_data, features, scaler = fm.pre_process_data(df, [(1,2)])\n",
    "# model_data.head()"
   ]
  },
  {
   "cell_type": "code",
   "execution_count": 66,
   "id": "2102a3cf",
   "metadata": {},
   "outputs": [],
   "source": [
    "model_data.to_csv(os.path.join(MAIN_FOLDER,\"automl\",\"training2.csv\"))"
   ]
  },
  {
   "cell_type": "code",
   "execution_count": 67,
   "id": "3a20fe0b",
   "metadata": {},
   "outputs": [
    {
     "data": {
      "text/html": [
       "<div>\n",
       "<style scoped>\n",
       "    .dataframe tbody tr th:only-of-type {\n",
       "        vertical-align: middle;\n",
       "    }\n",
       "\n",
       "    .dataframe tbody tr th {\n",
       "        vertical-align: top;\n",
       "    }\n",
       "\n",
       "    .dataframe thead th {\n",
       "        text-align: right;\n",
       "    }\n",
       "</style>\n",
       "<table border=\"1\" class=\"dataframe\">\n",
       "  <thead>\n",
       "    <tr style=\"text-align: right;\">\n",
       "      <th></th>\n",
       "      <th>a</th>\n",
       "      <th>aa</th>\n",
       "      <th>ac</th>\n",
       "      <th>ad</th>\n",
       "      <th>ae</th>\n",
       "      <th>af</th>\n",
       "      <th>ag</th>\n",
       "      <th>ah</th>\n",
       "      <th>ai</th>\n",
       "      <th>ak</th>\n",
       "      <th>...</th>\n",
       "      <th>yp</th>\n",
       "      <th>yq</th>\n",
       "      <th>yr</th>\n",
       "      <th>ys</th>\n",
       "      <th>yt</th>\n",
       "      <th>yv</th>\n",
       "      <th>yw</th>\n",
       "      <th>yy</th>\n",
       "      <th>length</th>\n",
       "      <th>label</th>\n",
       "    </tr>\n",
       "  </thead>\n",
       "  <tbody>\n",
       "    <tr>\n",
       "      <th>0</th>\n",
       "      <td>0.252957</td>\n",
       "      <td>0.0</td>\n",
       "      <td>0.0</td>\n",
       "      <td>0.0</td>\n",
       "      <td>0.0</td>\n",
       "      <td>0.0</td>\n",
       "      <td>0.0</td>\n",
       "      <td>0.0</td>\n",
       "      <td>0.0</td>\n",
       "      <td>0.0</td>\n",
       "      <td>...</td>\n",
       "      <td>0.0</td>\n",
       "      <td>0.0</td>\n",
       "      <td>0.0</td>\n",
       "      <td>0.0</td>\n",
       "      <td>0.0</td>\n",
       "      <td>0.0</td>\n",
       "      <td>0.0</td>\n",
       "      <td>0.0</td>\n",
       "      <td>-0.333862</td>\n",
       "      <td>75.7</td>\n",
       "    </tr>\n",
       "    <tr>\n",
       "      <th>1</th>\n",
       "      <td>-0.256378</td>\n",
       "      <td>0.0</td>\n",
       "      <td>0.0</td>\n",
       "      <td>0.0</td>\n",
       "      <td>0.0</td>\n",
       "      <td>0.0</td>\n",
       "      <td>0.0</td>\n",
       "      <td>0.0</td>\n",
       "      <td>0.0</td>\n",
       "      <td>0.0</td>\n",
       "      <td>...</td>\n",
       "      <td>0.0</td>\n",
       "      <td>0.0</td>\n",
       "      <td>0.0</td>\n",
       "      <td>0.0</td>\n",
       "      <td>0.0</td>\n",
       "      <td>0.0</td>\n",
       "      <td>0.0</td>\n",
       "      <td>0.0</td>\n",
       "      <td>-0.461421</td>\n",
       "      <td>50.5</td>\n",
       "    </tr>\n",
       "    <tr>\n",
       "      <th>2</th>\n",
       "      <td>0.402761</td>\n",
       "      <td>0.0</td>\n",
       "      <td>0.0</td>\n",
       "      <td>0.0</td>\n",
       "      <td>0.0</td>\n",
       "      <td>0.0</td>\n",
       "      <td>0.0</td>\n",
       "      <td>0.0</td>\n",
       "      <td>0.0</td>\n",
       "      <td>0.0</td>\n",
       "      <td>...</td>\n",
       "      <td>0.0</td>\n",
       "      <td>0.0</td>\n",
       "      <td>0.0</td>\n",
       "      <td>0.0</td>\n",
       "      <td>0.0</td>\n",
       "      <td>0.0</td>\n",
       "      <td>0.0</td>\n",
       "      <td>0.0</td>\n",
       "      <td>0.027940</td>\n",
       "      <td>40.5</td>\n",
       "    </tr>\n",
       "    <tr>\n",
       "      <th>3</th>\n",
       "      <td>-0.496065</td>\n",
       "      <td>0.0</td>\n",
       "      <td>0.0</td>\n",
       "      <td>0.0</td>\n",
       "      <td>0.0</td>\n",
       "      <td>0.0</td>\n",
       "      <td>0.0</td>\n",
       "      <td>0.0</td>\n",
       "      <td>0.0</td>\n",
       "      <td>0.0</td>\n",
       "      <td>...</td>\n",
       "      <td>0.0</td>\n",
       "      <td>0.0</td>\n",
       "      <td>0.0</td>\n",
       "      <td>0.0</td>\n",
       "      <td>0.0</td>\n",
       "      <td>0.0</td>\n",
       "      <td>0.0</td>\n",
       "      <td>0.0</td>\n",
       "      <td>-0.510125</td>\n",
       "      <td>47.2</td>\n",
       "    </tr>\n",
       "    <tr>\n",
       "      <th>4</th>\n",
       "      <td>1.481352</td>\n",
       "      <td>0.0</td>\n",
       "      <td>0.0</td>\n",
       "      <td>0.0</td>\n",
       "      <td>0.0</td>\n",
       "      <td>0.0</td>\n",
       "      <td>0.0</td>\n",
       "      <td>0.0</td>\n",
       "      <td>0.0</td>\n",
       "      <td>0.0</td>\n",
       "      <td>...</td>\n",
       "      <td>0.0</td>\n",
       "      <td>0.0</td>\n",
       "      <td>0.0</td>\n",
       "      <td>0.0</td>\n",
       "      <td>0.0</td>\n",
       "      <td>0.0</td>\n",
       "      <td>0.0</td>\n",
       "      <td>0.0</td>\n",
       "      <td>2.240498</td>\n",
       "      <td>49.5</td>\n",
       "    </tr>\n",
       "  </tbody>\n",
       "</table>\n",
       "<p>5 rows × 422 columns</p>\n",
       "</div>"
      ],
      "text/plain": [
       "          a   aa   ac   ad   ae   af   ag   ah   ai   ak  ...   yp   yq   yr  \\\n",
       "0  0.252957  0.0  0.0  0.0  0.0  0.0  0.0  0.0  0.0  0.0  ...  0.0  0.0  0.0   \n",
       "1 -0.256378  0.0  0.0  0.0  0.0  0.0  0.0  0.0  0.0  0.0  ...  0.0  0.0  0.0   \n",
       "2  0.402761  0.0  0.0  0.0  0.0  0.0  0.0  0.0  0.0  0.0  ...  0.0  0.0  0.0   \n",
       "3 -0.496065  0.0  0.0  0.0  0.0  0.0  0.0  0.0  0.0  0.0  ...  0.0  0.0  0.0   \n",
       "4  1.481352  0.0  0.0  0.0  0.0  0.0  0.0  0.0  0.0  0.0  ...  0.0  0.0  0.0   \n",
       "\n",
       "    ys   yt   yv   yw   yy    length  label  \n",
       "0  0.0  0.0  0.0  0.0  0.0 -0.333862   75.7  \n",
       "1  0.0  0.0  0.0  0.0  0.0 -0.461421   50.5  \n",
       "2  0.0  0.0  0.0  0.0  0.0  0.027940   40.5  \n",
       "3  0.0  0.0  0.0  0.0  0.0 -0.510125   47.2  \n",
       "4  0.0  0.0  0.0  0.0  0.0  2.240498   49.5  \n",
       "\n",
       "[5 rows x 422 columns]"
      ]
     },
     "execution_count": 67,
     "metadata": {},
     "output_type": "execute_result"
    }
   ],
   "source": [
    "model_data.head()"
   ]
  },
  {
   "cell_type": "code",
   "execution_count": null,
   "id": "3788ae01",
   "metadata": {},
   "outputs": [],
   "source": []
  }
 ],
 "metadata": {
  "kernelspec": {
   "display_name": "conda_python3",
   "language": "python",
   "name": "conda_python3"
  },
  "language_info": {
   "codemirror_mode": {
    "name": "ipython",
    "version": 3
   },
   "file_extension": ".py",
   "mimetype": "text/x-python",
   "name": "python",
   "nbconvert_exporter": "python",
   "pygments_lexer": "ipython3",
   "version": "3.10.8"
  }
 },
 "nbformat": 4,
 "nbformat_minor": 5
}
