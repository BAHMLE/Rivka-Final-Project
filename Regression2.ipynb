{
 "cells": [
  {
   "cell_type": "markdown",
   "id": "bdcb7c7d",
   "metadata": {},
   "source": [
    "import statements:"
   ]
  },
  {
   "cell_type": "code",
   "execution_count": 18,
   "id": "e7c3e88b",
   "metadata": {},
   "outputs": [],
   "source": [
    "import Features_Modules as fm"
   ]
  },
  {
   "cell_type": "code",
   "execution_count": 19,
   "id": "f40e85fb",
   "metadata": {},
   "outputs": [],
   "source": [
    "import pandas as pd\n",
    "import boto3\n",
    "import os\n",
    "from scipy.stats import spearmanr\n",
    "from sklearn.feature_extraction.text import CountVectorizer\n",
    "from sklearn.preprocessing import StandardScaler\n",
    "# import seaborn as sns\n",
    "from sklearn.linear_model import LinearRegression\n",
    "from scipy.stats import kendalltau, pearsonr, spearmanr\n",
    "import matplotlib.pyplot as plt\n",
    "import seaborn as sns\n",
    "import tempfile\n",
    "import joblib\n",
    "%matplotlib inline"
   ]
  },
  {
   "cell_type": "markdown",
   "id": "925ee855",
   "metadata": {},
   "source": [
    "Run the regression and get results (on training data)"
   ]
  },
  {
   "cell_type": "code",
   "execution_count": null,
   "id": "ca196a9a",
   "metadata": {},
   "outputs": [],
   "source": [
    "df = fm.read_clean_data('clean_train.csv')\n",
    "model_data, features, scaler = fm.pre_process_data(df, [(1,2)])"
   ]
  },
  {
   "cell_type": "code",
   "execution_count": null,
   "id": "dd2c4b48",
   "metadata": {
    "scrolled": true
   },
   "outputs": [],
   "source": [
    "reg, spear, r2 = fm.fit_regression(model_data, njobs=10)\n",
    "print(\"correlation with actual rank:\", spear,\"\\nR^2 value for model:\", r2)"
   ]
  },
  {
   "cell_type": "markdown",
   "id": "3f40eba1",
   "metadata": {},
   "source": [
    "Read in test data (from test/train split)"
   ]
  },
  {
   "cell_type": "code",
   "execution_count": null,
   "id": "33e51a5e",
   "metadata": {},
   "outputs": [],
   "source": [
    "df_test = fm.read_clean_data('clean_test.csv')\n",
    "# df_test.head()"
   ]
  },
  {
   "cell_type": "code",
   "execution_count": null,
   "id": "57b51257",
   "metadata": {},
   "outputs": [],
   "source": [
    "# Get Count Vectors, length vector, and pH vector... then scale\n",
    "test1 = fm.use_features(features, df_test)\n",
    "test2 = fm.vector_seq_len(df_test)\n",
    "test1['length'] = test2.n_aa\n",
    "test1['pH'] = test2.pH\n",
    "test1 = pd.DataFrame(scaler.fit_transform(test1), columns = test1.columns)\n",
    "\n"
   ]
  },
  {
   "cell_type": "code",
   "execution_count": null,
   "id": "00415526",
   "metadata": {},
   "outputs": [],
   "source": [
    "prediction = reg.predict(test1)\n",
    "print(\"correlation with actual rank:\", fm.get_spearman(prediction, df_test.label)[0],\n",
    "      \"\\nR^2 value for model:\", reg.score(test1,df_test.label))"
   ]
  },
  {
   "cell_type": "markdown",
   "id": "e5db90ef",
   "metadata": {},
   "source": [
    "Persist the model"
   ]
  },
  {
   "cell_type": "code",
   "execution_count": null,
   "id": "98072a61",
   "metadata": {},
   "outputs": [],
   "source": [
    "bucket = 'tech-x-final-project'\n",
    "MODEL_FOLDER = 'models'"
   ]
  },
  {
   "cell_type": "code",
   "execution_count": null,
   "id": "b6a66b9d",
   "metadata": {},
   "outputs": [],
   "source": [
    "my_region = boto3.session.Session().region_name\n",
    "print(my_region)\n",
    "s3 = boto3.client('s3')"
   ]
  },
  {
   "cell_type": "code",
   "execution_count": null,
   "id": "61e23c81",
   "metadata": {},
   "outputs": [],
   "source": [
    "key1 = \"models/reg2_model.pkl\"\n",
    "key2 = \"models/reg2_scaler.pkl\"\n",
    "key3 = \"models/reg2_features.pkl\"\n",
    "with tempfile.TemporaryFile() as fp:\n",
    "    joblib.dump(reg, fp)\n",
    "    fp.seek(0)\n",
    "    s3.put_object(Key=key1, Body=fp.read(), Bucket=bucket)\n",
    "    \n",
    "    joblib.dump(scaler, fp)\n",
    "    fp.seek(0)\n",
    "    s3.put_object(Key=key2, Body=fp.read(), Bucket=bucket)\n",
    "    \n",
    "    joblib.dump(features, fp)\n",
    "    fp.seek(0)\n",
    "    s3.put_object(Key=key3, Body=fp.read(), Bucket=bucket)"
   ]
  },
  {
   "cell_type": "code",
   "execution_count": null,
   "id": "ed60156c",
   "metadata": {},
   "outputs": [],
   "source": []
  },
  {
   "cell_type": "code",
   "execution_count": null,
   "id": "a37ef7c2",
   "metadata": {},
   "outputs": [],
   "source": []
  },
  {
   "cell_type": "code",
   "execution_count": null,
   "id": "d1dc1d31",
   "metadata": {},
   "outputs": [],
   "source": []
  },
  {
   "cell_type": "code",
   "execution_count": null,
   "id": "dab589f3",
   "metadata": {},
   "outputs": [],
   "source": []
  },
  {
   "cell_type": "code",
   "execution_count": null,
   "id": "8a40417c",
   "metadata": {},
   "outputs": [],
   "source": []
  },
  {
   "cell_type": "markdown",
   "id": "fcaee868",
   "metadata": {},
   "source": [
    "Read in KAGGLE test set"
   ]
  },
  {
   "cell_type": "code",
   "execution_count": null,
   "id": "a0fe0041",
   "metadata": {},
   "outputs": [],
   "source": [
    "DATASET = 'test.csv'\n",
    "LABELS = 'test_labels.csv'\n",
    "MAIN_FOLDER = 's3://tech-x-final-project'\n",
    "DATA_FOLDER = 'raw-data'\n",
    "\n",
    "\n",
    "test_data = pd.read_csv(os.path.join(MAIN_FOLDER,DATA_FOLDER,DATASET))\n",
    "test_data = test_data.drop(['data_source'], axis=1)\n",
    "print(len(test_data))\n",
    "test_labels = pd.read_csv(os.path.join(MAIN_FOLDER,DATA_FOLDER,LABELS))\n",
    "\n",
    "# Do this next step in case they aren't in the same order\n",
    "test = pd.merge(test_data, test_labels, on='seq_id').drop('seq_id',axis=1)\n",
    "\n",
    "labels = test.tm\n",
    "test = test.drop('tm',axis=1)"
   ]
  },
  {
   "cell_type": "code",
   "execution_count": null,
   "id": "b4c490eb",
   "metadata": {},
   "outputs": [],
   "source": [
    "test.nunique()"
   ]
  },
  {
   "cell_type": "code",
   "execution_count": null,
   "id": "df95769e",
   "metadata": {},
   "outputs": [],
   "source": [
    "print(labels.nunique())\n",
    "print(labels.shape)"
   ]
  },
  {
   "cell_type": "markdown",
   "id": "efb55b08",
   "metadata": {},
   "source": [
    "Vectorize Test Data"
   ]
  },
  {
   "cell_type": "code",
   "execution_count": null,
   "id": "178763bd",
   "metadata": {},
   "outputs": [],
   "source": [
    "# Get Count Vectors\n",
    "test1 = fm.use_features(features, test)\n",
    "test2 = fm.vector_seq_len(test)\n",
    "test1['length'] = test2.n_aa\n",
    "test1['pH'] = test2.pH"
   ]
  },
  {
   "cell_type": "code",
   "execution_count": null,
   "id": "4bf9b741",
   "metadata": {},
   "outputs": [],
   "source": [
    "# scaler = StandardScaler()\n",
    "test1 = pd.DataFrame(scaler.fit_transform(test1), columns = test1.columns)"
   ]
  },
  {
   "cell_type": "code",
   "execution_count": null,
   "id": "b671ebff",
   "metadata": {
    "scrolled": true
   },
   "outputs": [],
   "source": [
    "# test1.head()"
   ]
  },
  {
   "cell_type": "code",
   "execution_count": null,
   "id": "f8ed19f3",
   "metadata": {},
   "outputs": [],
   "source": [
    "prediction = reg.predict(test1)\n",
    "print(\"correlation with actual rank:\", fm.get_spearman(prediction, labels)[0],\n",
    "      \"\\nR^2 value for model:\", reg.score(test1,labels))"
   ]
  },
  {
   "cell_type": "code",
   "execution_count": null,
   "id": "129caaa3",
   "metadata": {},
   "outputs": [],
   "source": []
  }
 ],
 "metadata": {
  "kernelspec": {
   "display_name": "conda_python3",
   "language": "python",
   "name": "conda_python3"
  },
  "language_info": {
   "codemirror_mode": {
    "name": "ipython",
    "version": 3
   },
   "file_extension": ".py",
   "mimetype": "text/x-python",
   "name": "python",
   "nbconvert_exporter": "python",
   "pygments_lexer": "ipython3",
   "version": "3.10.8"
  }
 },
 "nbformat": 4,
 "nbformat_minor": 5
}
